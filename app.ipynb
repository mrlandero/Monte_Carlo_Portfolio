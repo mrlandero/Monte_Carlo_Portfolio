{
 "cells": [
  {
   "cell_type": "markdown",
   "source": [
    "Financial Planning with APIs and Simulations\r\n",
    "In this Challenge, you’ll create two financial analysis tools by using a single Jupyter notebook:\r\n",
    "\r\n",
    "Part 1: A financial planner for emergencies. The members will be able to use this tool to visualize their current savings. The members can then determine if they have enough reserves for an emergency fund.\r\n",
    "\r\n",
    "Part 2: A financial planner for retirement. This tool will forecast the performance of their retirement portfolio in 30 years. To do this, the tool will make an Alpaca API call via the Alpaca SDK to get historical price data for use in Monte Carlo simulations.\r\n",
    "\r\n",
    "You’ll use the information from the Monte Carlo simulation to answer questions about the portfolio in your Jupyter notebook."
   ],
   "metadata": {}
  },
  {
   "cell_type": "code",
   "execution_count": 2,
   "source": [
    "# Import the required libraries and dependencies\r\n",
    "import os\r\n",
    "import requests\r\n",
    "import json\r\n",
    "import pandas as pd\r\n",
    "from dotenv import load_dotenv\r\n",
    "import alpaca_trade_api as tradeapi\r\n",
    "from MCForecastTools import MCSimulation\r\n",
    "\r\n",
    "%matplotlib inline"
   ],
   "outputs": [],
   "metadata": {}
  },
  {
   "cell_type": "code",
   "execution_count": 3,
   "source": [
    "# Load the environment variables from the .env file\r\n",
    "#by calling the load_dotenv function\r\n",
    "load_dotenv()"
   ],
   "outputs": [
    {
     "output_type": "execute_result",
     "data": {
      "text/plain": [
       "True"
      ]
     },
     "metadata": {},
     "execution_count": 3
    }
   ],
   "metadata": {}
  },
  {
   "cell_type": "markdown",
   "source": [
    "Part 1: Create a Financial Planner for Emergencies\r\n",
    "Evaluate the Cryptocurrency Wallet by Using the Requests Library\r\n",
    "In this section, you’ll determine the current value of a member’s cryptocurrency wallet. You’ll collect the current prices for the Bitcoin and Ethereum cryptocurrencies by using the Python Requests library. For the prototype, you’ll assume that the member holds the 1.2 Bitcoins (BTC) and 5.3 Ethereum coins (ETH). To do all this, complete the following steps:\r\n",
    "\r\n",
    "Create a variable named monthly_income, and set its value to 12000.\r\n",
    "\r\n",
    "Use the Requests library to get the current price (in US dollars) of Bitcoin (BTC) and Ethereum (ETH) by using the API endpoints that the starter code supplies.\r\n",
    "\r\n",
    "Navigate the JSON response object to access the current price of each coin, and store each in a variable.\r\n",
    "\r\n",
    "Hint Note the specific identifier for each cryptocurrency in the API JSON response. The Bitcoin identifier is 1, and the Ethereum identifier is 1027.\r\n",
    "\r\n",
    "Calculate the value, in US dollars, of the current amount of each cryptocurrency and of the entire cryptocurrency wallet."
   ],
   "metadata": {}
  },
  {
   "cell_type": "code",
   "execution_count": 4,
   "source": [
    "# The current number of coins for each cryptocurrency asset held in the portfolio.\r\n",
    "btc_coins = 1.2\r\n",
    "eth_coins = 5.3"
   ],
   "outputs": [],
   "metadata": {}
  },
  {
   "cell_type": "markdown",
   "source": [
    "Step 1: Create a variable named monthly_income, and set its value to 12000."
   ],
   "metadata": {}
  },
  {
   "cell_type": "code",
   "execution_count": null,
   "source": [
    "# The monthly amount for the member's household income\r\n",
    "monthly_income = 12000"
   ],
   "outputs": [],
   "metadata": {}
  },
  {
   "cell_type": "markdown",
   "source": [
    "Review the endpoint URLs for the API calls to Free Crypto API in order to get the current pricing information for both BTC and ETH."
   ],
   "metadata": {}
  },
  {
   "cell_type": "code",
   "execution_count": 5,
   "source": [
    "# The Free Crypto API Call endpoint URLs for the held cryptocurrency assets\r\n",
    "btc_url = \"https://api.alternative.me/v2/ticker/Bitcoin/?convert=USD\"\r\n",
    "eth_url = \"https://api.alternative.me/v2/ticker/Ethereum/?convert=USD\""
   ],
   "outputs": [],
   "metadata": {}
  },
  {
   "cell_type": "markdown",
   "source": [
    "Step 2. Use the Requests library to get the current price (in US dollars) of Bitcoin (BTC) and Ethereum (ETH) by using the API endpoints that the starter code supplied."
   ],
   "metadata": {}
  }
 ],
 "metadata": {
  "orig_nbformat": 4,
  "language_info": {
   "name": "python",
   "version": "3.7.10",
   "mimetype": "text/x-python",
   "codemirror_mode": {
    "name": "ipython",
    "version": 3
   },
   "pygments_lexer": "ipython3",
   "nbconvert_exporter": "python",
   "file_extension": ".py"
  },
  "kernelspec": {
   "name": "python3",
   "display_name": "Python 3.7.10 64-bit ('dev': conda)"
  },
  "interpreter": {
   "hash": "ad9fb37fa15c2fac4885b853501abc8587965d08b8586f67468c92fe4e3567d7"
  }
 },
 "nbformat": 4,
 "nbformat_minor": 2
}