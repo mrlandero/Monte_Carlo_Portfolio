{
 "cells": [
  {
   "cell_type": "markdown",
   "source": [
    "Financial Planning with APIs and Simulations\r\n",
    "In this Challenge, you’ll create two financial analysis tools by using a single Jupyter notebook:\r\n",
    "\r\n",
    "Part 1: A financial planner for emergencies. The members will be able to use this tool to visualize their current savings. The members can then determine if they have enough reserves for an emergency fund.\r\n",
    "\r\n",
    "Part 2: A financial planner for retirement. This tool will forecast the performance of their retirement portfolio in 30 years. To do this, the tool will make an Alpaca API call via the Alpaca SDK to get historical price data for use in Monte Carlo simulations.\r\n",
    "\r\n",
    "You’ll use the information from the Monte Carlo simulation to answer questions about the portfolio in your Jupyter notebook."
   ],
   "metadata": {}
  },
  {
   "cell_type": "code",
   "execution_count": 1,
   "source": [
    "# Import the required libraries and dependencies\r\n",
    "import os\r\n",
    "import requests\r\n",
    "import json\r\n",
    "import pandas as pd\r\n",
    "from dotenv import load_dotenv\r\n",
    "import alpaca_trade_api as tradeapi\r\n",
    "from MCForecastTools import MCSimulation\r\n",
    "\r\n",
    "%matplotlib inline"
   ],
   "outputs": [],
   "metadata": {}
  },
  {
   "cell_type": "code",
   "execution_count": 2,
   "source": [
    "# Load the environment variables from the .env file\r\n",
    "#by calling the load_dotenv function\r\n",
    "load_dotenv()"
   ],
   "outputs": [
    {
     "output_type": "execute_result",
     "data": {
      "text/plain": [
       "True"
      ]
     },
     "metadata": {},
     "execution_count": 2
    }
   ],
   "metadata": {}
  },
  {
   "cell_type": "markdown",
   "source": [
    "Part 1: Create a Financial Planner for Emergencies\r\n",
    "Evaluate the Cryptocurrency Wallet by Using the Requests Library\r\n",
    "In this section, you’ll determine the current value of a member’s cryptocurrency wallet. You’ll collect the current prices for the Bitcoin and Ethereum cryptocurrencies by using the Python Requests library. For the prototype, you’ll assume that the member holds the 1.2 Bitcoins (BTC) and 5.3 Ethereum coins (ETH). To do all this, complete the following steps:\r\n",
    "\r\n",
    "Create a variable named monthly_income, and set its value to 12000.\r\n",
    "\r\n",
    "Use the Requests library to get the current price (in US dollars) of Bitcoin (BTC) and Ethereum (ETH) by using the API endpoints that the starter code supplies.\r\n",
    "\r\n",
    "Navigate the JSON response object to access the current price of each coin, and store each in a variable.\r\n",
    "\r\n",
    "Hint Note the specific identifier for each cryptocurrency in the API JSON response. The Bitcoin identifier is 1, and the Ethereum identifier is 1027.\r\n",
    "\r\n",
    "Calculate the value, in US dollars, of the current amount of each cryptocurrency and of the entire cryptocurrency wallet."
   ],
   "metadata": {}
  },
  {
   "cell_type": "code",
   "execution_count": 3,
   "source": [
    "# The current number of coins for each cryptocurrency asset held in the portfolio.\r\n",
    "btc_coins = 1.2\r\n",
    "eth_coins = 5.3"
   ],
   "outputs": [],
   "metadata": {}
  },
  {
   "cell_type": "markdown",
   "source": [
    "Step 1: Create a variable named monthly_income, and set its value to 12000."
   ],
   "metadata": {}
  },
  {
   "cell_type": "code",
   "execution_count": 4,
   "source": [
    "# The monthly amount for the member's household income\r\n",
    "monthly_income = 12000"
   ],
   "outputs": [],
   "metadata": {}
  },
  {
   "cell_type": "markdown",
   "source": [
    "Review the endpoint URLs for the API calls to Free Crypto API in order to get the current pricing information for both BTC and ETH."
   ],
   "metadata": {}
  },
  {
   "cell_type": "code",
   "execution_count": 5,
   "source": [
    "# The Free Crypto API Call endpoint URLs for the held cryptocurrency assets\r\n",
    "btc_url = \"https://api.alternative.me/v2/ticker/Bitcoin/?convert=USD\"\r\n",
    "eth_url = \"https://api.alternative.me/v2/ticker/Ethereum/?convert=USD\""
   ],
   "outputs": [],
   "metadata": {}
  },
  {
   "cell_type": "markdown",
   "source": [
    "Step 2. Use the Requests library to get the current price (in US dollars) of Bitcoin (BTC) and Ethereum (ETH) by using the API endpoints that the starter code supplied."
   ],
   "metadata": {}
  },
  {
   "cell_type": "code",
   "execution_count": 6,
   "source": [
    "# Using the Python requests library, make an API call to access the current price of BTC\r\n",
    "btc_response = requests.get(btc_url).json()\r\n",
    "\r\n",
    "# Use the json.dumps function to review the response data from the API call\r\n",
    "# Use the indent and sort_keys parameters to make the response object readable\r\n",
    "print(json.dumps(btc_response, indent=3, sort_keys=True))"
   ],
   "outputs": [
    {
     "output_type": "stream",
     "name": "stdout",
     "text": [
      "{\n",
      "   \"data\": {\n",
      "      \"1\": {\n",
      "         \"circulating_supply\": 18845531,\n",
      "         \"id\": 1,\n",
      "         \"last_updated\": 1634411051,\n",
      "         \"max_supply\": 21000000,\n",
      "         \"name\": \"Bitcoin\",\n",
      "         \"quotes\": {\n",
      "            \"USD\": {\n",
      "               \"market_cap\": 1155596249560,\n",
      "               \"percent_change_1h\": 0.853769088779037,\n",
      "               \"percent_change_24h\": -0.504315850599819,\n",
      "               \"percent_change_7d\": 13.5769930343913,\n",
      "               \"percentage_change_1h\": 0.853769088779037,\n",
      "               \"percentage_change_24h\": -0.504315850599819,\n",
      "               \"percentage_change_7d\": 13.5769930343913,\n",
      "               \"price\": 61344.0,\n",
      "               \"volume_24h\": 40031972666\n",
      "            }\n",
      "         },\n",
      "         \"rank\": 1,\n",
      "         \"symbol\": \"BTC\",\n",
      "         \"total_supply\": 18845531,\n",
      "         \"website_slug\": \"bitcoin\"\n",
      "      }\n",
      "   },\n",
      "   \"metadata\": {\n",
      "      \"error\": null,\n",
      "      \"num_cryptocurrencies\": 3105,\n",
      "      \"timestamp\": 1634411051\n",
      "   }\n",
      "}\n"
     ]
    }
   ],
   "metadata": {}
  },
  {
   "cell_type": "code",
   "execution_count": 7,
   "source": [
    "# Using the Python requests library, make an API call to access the current price ETH\r\n",
    "eth_response = requests.get(eth_url).json()\r\n",
    "\r\n",
    "# Use the json.dumps function to review the response data from the API call\r\n",
    "# Use the indent and sort_keys parameters to make the response object readable\r\n",
    "print(json.dumps(eth_response, indent=3, sort_keys=True))"
   ],
   "outputs": [
    {
     "output_type": "stream",
     "name": "stdout",
     "text": [
      "{\n",
      "   \"data\": {\n",
      "      \"1027\": {\n",
      "         \"circulating_supply\": 117953530,\n",
      "         \"id\": 1027,\n",
      "         \"last_updated\": 1634411063,\n",
      "         \"max_supply\": 0,\n",
      "         \"name\": \"Ethereum\",\n",
      "         \"quotes\": {\n",
      "            \"USD\": {\n",
      "               \"market_cap\": 459057655264,\n",
      "               \"percent_change_1h\": 0.0893239509366896,\n",
      "               \"percent_change_24h\": -0.0251126065079878,\n",
      "               \"percent_change_7d\": 9.26424969511255,\n",
      "               \"percentage_change_1h\": 0.0893239509366896,\n",
      "               \"percentage_change_24h\": -0.0251126065079878,\n",
      "               \"percentage_change_7d\": 9.26424969511255,\n",
      "               \"price\": 3888.22,\n",
      "               \"volume_24h\": 19442802981\n",
      "            }\n",
      "         },\n",
      "         \"rank\": 2,\n",
      "         \"symbol\": \"ETH\",\n",
      "         \"total_supply\": 117953530,\n",
      "         \"website_slug\": \"ethereum\"\n",
      "      }\n",
      "   },\n",
      "   \"metadata\": {\n",
      "      \"error\": null,\n",
      "      \"num_cryptocurrencies\": 3105,\n",
      "      \"timestamp\": 1634411063\n",
      "   }\n",
      "}\n"
     ]
    }
   ],
   "metadata": {}
  },
  {
   "cell_type": "markdown",
   "source": [
    "Step 3: Navigate the JSON response object to access the current price of each coin, and store each in a variable."
   ],
   "metadata": {}
  },
  {
   "cell_type": "code",
   "execution_count": 8,
   "source": [
    "# Navigate the BTC response object to access the current price of BTC\r\n",
    "btc_price = btc_response[\"data\"][\"1\"][\"quotes\"][\"USD\"][\"price\"]\r\n",
    "\r\n",
    "# Print the current price of BTC\r\n",
    "print(f\"The current price of Bitcoin is ${btc_price: .2f}\")"
   ],
   "outputs": [
    {
     "output_type": "stream",
     "name": "stdout",
     "text": [
      "The current price of Bitcoin is $ 61344.00\n"
     ]
    }
   ],
   "metadata": {}
  },
  {
   "cell_type": "code",
   "execution_count": 9,
   "source": [
    "# Navigate the BTC response object to access the current price of ETH\r\n",
    "eth_price = eth_response[\"data\"][\"1027\"][\"quotes\"][\"USD\"][\"price\"]\r\n",
    "\r\n",
    "# Print the current price of ETH\r\n",
    "print(f\"The current price of Ethereum is ${eth_price: .2f}\")"
   ],
   "outputs": [
    {
     "output_type": "stream",
     "name": "stdout",
     "text": [
      "The current price of Ethereum is $ 3888.22\n"
     ]
    }
   ],
   "metadata": {}
  },
  {
   "cell_type": "markdown",
   "source": [
    "Step 4: Calculate the value, in US dollars, of the current amount of each cryptocurrency and of the entire cryptocurrency wallet."
   ],
   "metadata": {}
  },
  {
   "cell_type": "code",
   "execution_count": 10,
   "source": [
    "# Compute the current value of the BTC holding \r\n",
    "btc_value = btc_coins * btc_price\r\n",
    "\r\n",
    "# Print current value of your holding in BTC\r\n",
    "print(f\"The current value of your Bitcoin holdings is ${btc_value: .2f}\")"
   ],
   "outputs": [
    {
     "output_type": "stream",
     "name": "stdout",
     "text": [
      "The current value of your Bitcoin holdings is $ 73612.80\n"
     ]
    }
   ],
   "metadata": {}
  },
  {
   "cell_type": "code",
   "execution_count": 11,
   "source": [
    "# Compute the current value of the ETH holding\r\n",
    "eth_value = eth_coins * eth_price \r\n",
    "\r\n",
    "# Print current value of your holding in ETH\r\n",
    "print(f\"The current value of your Ethereum holdings is ${eth_value: .2f}\")"
   ],
   "outputs": [
    {
     "output_type": "stream",
     "name": "stdout",
     "text": [
      "The current value of your Ethereum holdings is $ 20607.57\n"
     ]
    }
   ],
   "metadata": {}
  },
  {
   "cell_type": "code",
   "execution_count": 12,
   "source": [
    "# Compute the total value of the cryptocurrency wallet\r\n",
    "# Add the value of the BTC holding to the value of the ETH holding\r\n",
    "total_crypto_wallet = btc_value + eth_value\r\n",
    "\r\n",
    "# Print current cryptocurrency wallet balance\r\n",
    "print(f\"The current total value of your cryptocurrency holdings is ${total_crypto_wallet: .2f}\")"
   ],
   "outputs": [
    {
     "output_type": "stream",
     "name": "stdout",
     "text": [
      "The current total value of your cryptocurrency holdings is $ 94220.37\n"
     ]
    }
   ],
   "metadata": {}
  },
  {
   "cell_type": "markdown",
   "source": [
    "Evaluate the Stock and Bond Holdings by Using the Alpaca SDK\r\n",
    "In this section, you’ll determine the current value of a member’s stock and bond holdings. You’ll make an API call to Alpaca via the Alpaca SDK to get the current closing prices of the SPDR S&P 500 ETF Trust (ticker: SPY) and of the iShares Core US Aggregate Bond ETF (ticker: AGG). For the prototype, assume that the member holds 110 shares of SPY, which represents the stock portion of their portfolio, and 200 shares of AGG, which represents the bond portion. To do all this, complete the following steps:\r\n",
    "\r\n",
    "In the Starter_Code folder, create an environment file (.env) to store the values of your Alpaca API key and Alpaca secret key.\r\n",
    "\r\n",
    "Set the variables for the Alpaca API and secret keys. Using the Alpaca SDK, create the Alpaca tradeapi.REST object. In this object, include the parameters for the Alpaca API key, the secret key, and the version number.\r\n",
    "\r\n",
    "Set the following parameters for the Alpaca API call:\r\n",
    "\r\n",
    "tickers: Use the tickers for the member’s stock and bond holdings.\r\n",
    "\r\n",
    "timeframe: Use a time frame of one day.\r\n",
    "\r\n",
    "start_date and end_date: Use the same date for these parameters, and format them with the date of the previous weekday (or 2020-08-07). This is because you want the one closing price for the most-recent trading day.\r\n",
    "\r\n",
    "Get the current closing prices for SPY and AGG by using the Alpaca get_barset function. Format the response as a Pandas DataFrame by including the df property at the end of the get_barset function.\r\n",
    "\r\n",
    "Navigating the Alpaca response DataFrame, select the SPY and AGG closing prices, and store them as variables.\r\n",
    "\r\n",
    "Calculate the value, in US dollars, of the current amount of shares in each of the stock and bond portions of the portfolio, and print the results."
   ],
   "metadata": {}
  },
  {
   "cell_type": "markdown",
   "source": [
    "Review the total number of shares held in both (SPY) and (AGG)."
   ],
   "metadata": {}
  },
  {
   "cell_type": "code",
   "execution_count": 13,
   "source": [
    "# Current amount of shares held in both the stock (SPY) and bond (AGG) portion of the portfolio.\r\n",
    "spy_shares = 110\r\n",
    "agg_shares = 200"
   ],
   "outputs": [],
   "metadata": {}
  },
  {
   "cell_type": "markdown",
   "source": [
    "Step 1: In the Starter_Code folder, create an environment file (.env) to store the values of your Alpaca API key and Alpaca secret key."
   ],
   "metadata": {}
  },
  {
   "cell_type": "markdown",
   "source": [
    "Step 2: Set the variables for the Alpaca API and secret keys. Using the Alpaca SDK, create the Alpaca tradeapi.REST object. In this object, include the parameters for the Alpaca API key, the secret key, and the version number."
   ],
   "metadata": {}
  },
  {
   "cell_type": "code",
   "execution_count": 14,
   "source": [
    "# Set the variables for the Alpaca API and secret keys\r\n",
    "alpaca_api_key = os.getenv(\"ALPACA_API_KEY\")\r\n",
    "alpaca_secret_key = os.getenv(\"ALPACA_SECRET_KEY\")\r\n",
    "display(type(alpaca_api_key))\r\n",
    "display(type(alpaca_secret_key))\r\n",
    "\r\n",
    "# Create the Alpaca tradeapi.REST object\r\n",
    "alpaca = tradeapi.REST(\r\n",
    "  alpaca_api_key,\r\n",
    "  alpaca_secret_key,\r\n",
    "  api_version=\"v2\"\r\n",
    ")\r\n",
    "\r\n",
    "print(alpaca)"
   ],
   "outputs": [
    {
     "output_type": "display_data",
     "data": {
      "text/plain": [
       "str"
      ]
     },
     "metadata": {}
    },
    {
     "output_type": "display_data",
     "data": {
      "text/plain": [
       "str"
      ]
     },
     "metadata": {}
    },
    {
     "output_type": "stream",
     "name": "stdout",
     "text": [
      "<alpaca_trade_api.rest.REST object at 0x000002310E4A7648>\n"
     ]
    }
   ],
   "metadata": {}
  },
  {
   "cell_type": "markdown",
   "source": [
    "Step 3: Set the following parameters for the Alpaca API call:\r\n",
    "tickers: Use the tickers for the member’s stock and bond holdings.\r\n",
    "\r\n",
    "timeframe: Use a time frame of one day.\r\n",
    "\r\n",
    "start_date and end_date: Use the same date for these parameters, and format them with the date of the previous weekday (or 2020-08-07). This is because you want the one closing price for the most-recent trading day."
   ],
   "metadata": {}
  },
  {
   "cell_type": "code",
   "execution_count": 15,
   "source": [
    "# Set the tickers for both the bond and stock portion of the portfolio\r\n",
    "tickers = [\"SPY\", \"AGG\"]\r\n",
    "\r\n",
    "# Set timeframe to 1D \r\n",
    "timeframe = \"1D\"\r\n",
    "\r\n",
    "# Format current date as ISO format\r\n",
    "# Set both the start and end date at the date of your prior weekday \r\n",
    "# This will give you the closing price of the previous trading day\r\n",
    "# Alternatively you can use a start and end date of 2020-08-07\r\n",
    "start_date = pd.Timestamp(\"2021-10-14\", tz=\"America/New_York\").isoformat()\r\n",
    "end_date = pd.Timestamp(\"2021-10-14\", tz=\"America/New_York\").isoformat()\r\n"
   ],
   "outputs": [],
   "metadata": {}
  },
  {
   "cell_type": "markdown",
   "source": [
    "Step 4: Get the current closing prices for SPY and AGG by using the Alpaca get_barset function. Format the response as a Pandas DataFrame by including the df property at the end of the get_barset function."
   ],
   "metadata": {}
  },
  {
   "cell_type": "code",
   "execution_count": 16,
   "source": [
    "# Use the Alpaca get_barset function to get current closing prices the portfolio\r\n",
    "# Be sure to set the `df` property after the function to format the response object as a DataFrame\r\n",
    "prices_df = alpaca.get_barset(\r\n",
    "  tickers,\r\n",
    "  timeframe,\r\n",
    "  start=start_date,\r\n",
    "  end=end_date\r\n",
    ").df\r\n",
    "\r\n",
    "# Review the first 5 rows of the Alpaca DataFrame\r\n",
    "prices_df.head()\r\n"
   ],
   "outputs": [
    {
     "output_type": "execute_result",
     "data": {
      "text/html": [
       "<div>\n",
       "<style scoped>\n",
       "    .dataframe tbody tr th:only-of-type {\n",
       "        vertical-align: middle;\n",
       "    }\n",
       "\n",
       "    .dataframe tbody tr th {\n",
       "        vertical-align: top;\n",
       "    }\n",
       "\n",
       "    .dataframe thead tr th {\n",
       "        text-align: left;\n",
       "    }\n",
       "\n",
       "    .dataframe thead tr:last-of-type th {\n",
       "        text-align: right;\n",
       "    }\n",
       "</style>\n",
       "<table border=\"1\" class=\"dataframe\">\n",
       "  <thead>\n",
       "    <tr>\n",
       "      <th></th>\n",
       "      <th colspan=\"5\" halign=\"left\">AGG</th>\n",
       "      <th colspan=\"5\" halign=\"left\">SPY</th>\n",
       "    </tr>\n",
       "    <tr>\n",
       "      <th></th>\n",
       "      <th>open</th>\n",
       "      <th>high</th>\n",
       "      <th>low</th>\n",
       "      <th>close</th>\n",
       "      <th>volume</th>\n",
       "      <th>open</th>\n",
       "      <th>high</th>\n",
       "      <th>low</th>\n",
       "      <th>close</th>\n",
       "      <th>volume</th>\n",
       "    </tr>\n",
       "    <tr>\n",
       "      <th>time</th>\n",
       "      <th></th>\n",
       "      <th></th>\n",
       "      <th></th>\n",
       "      <th></th>\n",
       "      <th></th>\n",
       "      <th></th>\n",
       "      <th></th>\n",
       "      <th></th>\n",
       "      <th></th>\n",
       "      <th></th>\n",
       "    </tr>\n",
       "  </thead>\n",
       "  <tbody>\n",
       "    <tr>\n",
       "      <th>2021-10-14 00:00:00-04:00</th>\n",
       "      <td>114.7</td>\n",
       "      <td>114.8496</td>\n",
       "      <td>114.63</td>\n",
       "      <td>114.84</td>\n",
       "      <td>3540673</td>\n",
       "      <td>439.08</td>\n",
       "      <td>442.66</td>\n",
       "      <td>438.58</td>\n",
       "      <td>442.47</td>\n",
       "      <td>59812568</td>\n",
       "    </tr>\n",
       "  </tbody>\n",
       "</table>\n",
       "</div>"
      ],
      "text/plain": [
       "                             AGG                                        SPY  \\\n",
       "                            open      high     low   close   volume    open   \n",
       "time                                                                          \n",
       "2021-10-14 00:00:00-04:00  114.7  114.8496  114.63  114.84  3540673  439.08   \n",
       "\n",
       "                                                             \n",
       "                             high     low   close    volume  \n",
       "time                                                         \n",
       "2021-10-14 00:00:00-04:00  442.66  438.58  442.47  59812568  "
      ]
     },
     "metadata": {},
     "execution_count": 16
    }
   ],
   "metadata": {}
  },
  {
   "cell_type": "markdown",
   "source": [
    "Step 5: Navigating the Alpaca response DataFrame, select the SPY and AGG closing prices, and store them as variables."
   ],
   "metadata": {}
  },
  {
   "cell_type": "code",
   "execution_count": 22,
   "source": [
    "# Access the closing price for AGG from the Alpaca DataFrame\r\n",
    "# Converting the value to a floating point number\r\n",
    "agg_close_price = float(prices_df[\"AGG\"][\"close\"])\r\n",
    "\r\n",
    "# Print the AGG closing price\r\n",
    "print(f\"The closing price of the iShares Core US Aggregate Bond ETF is ${agg_close_price}\")"
   ],
   "outputs": [
    {
     "output_type": "stream",
     "name": "stdout",
     "text": [
      "The closing price of the iShares Core US Aggregate Bond ETF is $114.84\n"
     ]
    }
   ],
   "metadata": {}
  },
  {
   "cell_type": "code",
   "execution_count": 23,
   "source": [
    "# Access the closing price for SPY from the Alpaca DataFrame\r\n",
    "# Converting the value to a floating point number\r\n",
    "spy_closing_price = float(prices_df[\"SPY\"][\"close\"])\r\n",
    "\r\n",
    "# Print the SPY closing price\r\n",
    "print(f\"The closing price of the SPDR S&P 500 Trust ETF is ${spy_closing_price}\")"
   ],
   "outputs": [
    {
     "output_type": "stream",
     "name": "stdout",
     "text": [
      "The closing price of the SPDR S&P 500 Trust ETF is $442.47\n"
     ]
    }
   ],
   "metadata": {}
  },
  {
   "cell_type": "markdown",
   "source": [
    "Step 6: Calculate the value, in US dollars, of the current amount of shares in each of the stock and bond portions of the portfolio, and print the results."
   ],
   "metadata": {}
  },
  {
   "cell_type": "code",
   "execution_count": 25,
   "source": [
    "# Calculate the current value of the bond portion of the portfolio\r\n",
    "agg_value = agg_shares * agg_close_price\r\n",
    "\r\n",
    "# Print the current value of the bond portfolio\r\n",
    "print(f\"The current value of iShares Core US Aggregate Bond ETF in your portfolio is ${agg_value: .2f}\")"
   ],
   "outputs": [
    {
     "output_type": "stream",
     "name": "stdout",
     "text": [
      "The current value of iShares Core US Aggregate Bond ETF in your portfolio is $ 22968.00\n"
     ]
    }
   ],
   "metadata": {}
  },
  {
   "cell_type": "code",
   "execution_count": 26,
   "source": [
    "# Calculate the current value of the stock portion of the portfolio\r\n",
    "spy_value = spy_shares * spy_closing_price\r\n",
    "\r\n",
    "# Print the current value of the stock portfolio\r\n",
    "print(f\"The current value of the SPDR S&P 500 Trust ETF in your portfolio is ${spy_value: .2f}\")"
   ],
   "outputs": [
    {
     "output_type": "stream",
     "name": "stdout",
     "text": [
      "The current value of the SPDR S&P 500 Trust ETF in your portfolio is $ 48671.70\n"
     ]
    }
   ],
   "metadata": {}
  },
  {
   "cell_type": "code",
   "execution_count": 27,
   "source": [
    "# Calculate the total value of the stock and bond portion of the portfolio\r\n",
    "total_stocks_bonds = agg_value + spy_value\r\n",
    "\r\n",
    "# Print the current balance of the stock and bond portion of the portfolio\r\n",
    "print(f\"The current value of your Stocks and Bonds Portfolio is ${total_stocks_bonds: .2f}\")"
   ],
   "outputs": [
    {
     "output_type": "stream",
     "name": "stdout",
     "text": [
      "The current value of your Stocks and Bonds Portfolio is $ 71639.70\n"
     ]
    }
   ],
   "metadata": {}
  },
  {
   "cell_type": "code",
   "execution_count": 28,
   "source": [
    "# Calculate the total value of the member's entire savings portfolio\r\n",
    "# Add the value of the cryptocurrency walled to the value of the total stocks and bonds\r\n",
    "total_portfolio = total_crypto_wallet + total_stocks_bonds\r\n",
    "\r\n",
    "# Print current total portfolio balance\r\n",
    "print(f\"The current total value of your portfolio is ${total_portfolio: .2f}\")"
   ],
   "outputs": [
    {
     "output_type": "stream",
     "name": "stdout",
     "text": [
      "The current total value of your portfolio is $ 165860.07\n"
     ]
    }
   ],
   "metadata": {}
  },
  {
   "cell_type": "markdown",
   "source": [
    "Evaluate the Emergency Fund\r\n",
    "In this section, you’ll use the valuations for the cryptocurrency wallet and for the stock and bond portions of the portfolio to determine if the credit union member has enough savings to build an emergency fund into their financial plan. To do this, complete the following steps:\r\n",
    "\r\n",
    "Create a Python list named savings_data that has two elements. The first element contains the total value of the cryptocurrency wallet. The second element contains the total value of the stock and bond portions of the portfolio.\r\n",
    "\r\n",
    "Use the savings_data list to create a Pandas DataFrame named savings_df, and then display this DataFrame. The function to create the DataFrame should take the following three parameters:\r\n",
    "\r\n",
    "savings_data: Use the list that you just created.\r\n",
    "\r\n",
    "columns: Set this parameter equal to a Python list with a single value called amount.\r\n",
    "\r\n",
    "index: Set this parameter equal to a Python list with the values of crypto and stock/bond.\r\n",
    "\r\n",
    "Use the savings_df DataFrame to plot a pie chart that visualizes the composition of the member’s portfolio. The y-axis of the pie chart uses amount. Be sure to add a title.\r\n",
    "\r\n",
    "Using Python, determine if the current portfolio has enough to create an emergency fund as part of the member’s financial plan. Ideally, an emergency fund should equal to three times the member’s monthly income. To do this, implement the following steps:\r\n",
    "\r\n",
    "Create a variable named emergency_fund_value, and set it equal to three times the value of the member’s monthly_income of $12000. (You set this earlier in Part 1).\r\n",
    "\r\n",
    "Create a series of three if statements to determine if the member’s total portfolio is large enough to fund the emergency portfolio:\r\n",
    "\r\n",
    "If the total portfolio value is greater than the emergency fund value, display a message congratulating the member for having enough money in this fund.\r\n",
    "\r\n",
    "Else if the total portfolio value is equal to the emergency fund value, display a message congratulating the member on reaching this important financial goal.\r\n",
    "\r\n",
    "Else the total portfolio is less than the emergency fund value, so display a message showing how many dollars away the member is from reaching the goal. (Subtract the total portfolio value from the emergency fund value.)"
   ],
   "metadata": {}
  },
  {
   "cell_type": "markdown",
   "source": [
    "Step 1: Create a Python list named savings_data that has two elements. The first element contains the total value of the cryptocurrency wallet. The second element contains the total value of the stock and bond portions of the portfolio."
   ],
   "metadata": {}
  },
  {
   "cell_type": "code",
   "execution_count": 31,
   "source": [
    "# Consolidate financial assets data into a Python list\r\n",
    "savings_data = [total_crypto_wallet, total_stocks_bonds]\r\n",
    "\r\n",
    "# Review the Python list savings_data\r\n",
    "savings_data\r\n"
   ],
   "outputs": [
    {
     "output_type": "execute_result",
     "data": {
      "text/plain": [
       "[94220.36600000001, 71639.70000000001]"
      ]
     },
     "metadata": {},
     "execution_count": 31
    }
   ],
   "metadata": {}
  },
  {
   "cell_type": "markdown",
   "source": [
    "Step 2: Use the savings_data list to create a Pandas DataFrame named savings_df, and then display this DataFrame. The function to create the DataFrame should take the following three parameters:\r\n",
    "savings_data: Use the list that you just created.\r\n",
    "\r\n",
    "columns: Set this parameter equal to a Python list with a single value called amount.\r\n",
    "\r\n",
    "index: Set this parameter equal to a Python list with the values of crypto and stock/bond."
   ],
   "metadata": {}
  },
  {
   "cell_type": "code",
   "execution_count": 32,
   "source": [
    "# Create a Pandas DataFrame called savings_df \r\n",
    "savings_df = pd.DataFrame(savings_data, columns=[\"amount\"], index=[\"crypto\", \"stock/bond\"])\r\n",
    "\r\n",
    "# Display the savings_df DataFrame\r\n",
    "print(savings_df)"
   ],
   "outputs": [
    {
     "output_type": "stream",
     "name": "stdout",
     "text": [
      "               amount\n",
      "crypto      94220.366\n",
      "stock/bond  71639.700\n"
     ]
    }
   ],
   "metadata": {}
  },
  {
   "cell_type": "markdown",
   "source": [
    "Step 3: Use the savings_df DataFrame to plot a pie chart that visualizes the composition of the member’s portfolio. The y-axis of the pie chart uses amount. Be sure to add a title."
   ],
   "metadata": {}
  },
  {
   "cell_type": "code",
   "execution_count": 33,
   "source": [
    "# Plot the total value of the member's portfolio (crypto and stock/bond) in a pie chart\r\n",
    "savings_df.plot.pie(y=\"amount\", figsize=(15,10), title=\"Current Portfolio Composition\")"
   ],
   "outputs": [
    {
     "output_type": "execute_result",
     "data": {
      "text/plain": [
       "<AxesSubplot:title={'center':'Current Portfolio Composition'}, ylabel='amount'>"
      ]
     },
     "metadata": {},
     "execution_count": 33
    },
    {
     "output_type": "display_data",
     "data": {
      "image/png": "[encoded data removed]",
      "text/plain": [
       "<Figure size 1080x720 with 1 Axes>"
      ]
     },
     "metadata": {}
    }
   ],
   "metadata": {}
  }
 ],
 "metadata": {
  "orig_nbformat": 4,
  "language_info": {
   "name": "python",
   "version": "3.7.10",
   "mimetype": "text/x-python",
   "codemirror_mode": {
    "name": "ipython",
    "version": 3
   },
   "pygments_lexer": "ipython3",
   "nbconvert_exporter": "python",
   "file_extension": ".py"
  },
  "kernelspec": {
   "name": "python3",
   "display_name": "Python 3.7.10 64-bit ('dev': conda)"
  },
  "interpreter": {
   "hash": "ad9fb37fa15c2fac4885b853501abc8587965d08b8586f67468c92fe4e3567d7"
  }
 },
 "nbformat": 4,
 "nbformat_minor": 2
}