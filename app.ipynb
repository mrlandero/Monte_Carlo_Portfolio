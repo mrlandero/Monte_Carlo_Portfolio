{
 "cells": [
  {
   "cell_type": "markdown",
   "source": [
    "Financial Planning with APIs and Simulations\r\n",
    "In this Challenge, you’ll create two financial analysis tools by using a single Jupyter notebook:\r\n",
    "\r\n",
    "Part 1: A financial planner for emergencies. The members will be able to use this tool to visualize their current savings. The members can then determine if they have enough reserves for an emergency fund.\r\n",
    "\r\n",
    "Part 2: A financial planner for retirement. This tool will forecast the performance of their retirement portfolio in 30 years. To do this, the tool will make an Alpaca API call via the Alpaca SDK to get historical price data for use in Monte Carlo simulations.\r\n",
    "\r\n",
    "You’ll use the information from the Monte Carlo simulation to answer questions about the portfolio in your Jupyter notebook."
   ],
   "metadata": {}
  },
  {
   "cell_type": "code",
   "execution_count": 1,
   "source": [
    "# Import the required libraries and dependencies\r\n",
    "import os\r\n",
    "import requests\r\n",
    "import json\r\n",
    "import pandas as pd\r\n",
    "from dotenv import load_dotenv\r\n",
    "import alpaca_trade_api as tradeapi\r\n",
    "from MCForecastTools import MCSimulation\r\n",
    "\r\n",
    "%matplotlib inline"
   ],
   "outputs": [],
   "metadata": {}
  },
  {
   "cell_type": "code",
   "execution_count": 2,
   "source": [
    "# Load the environment variables from the .env file\r\n",
    "#by calling the load_dotenv function\r\n",
    "load_dotenv()"
   ],
   "outputs": [
    {
     "output_type": "execute_result",
     "data": {
      "text/plain": [
       "True"
      ]
     },
     "metadata": {},
     "execution_count": 2
    }
   ],
   "metadata": {}
  },
  {
   "cell_type": "markdown",
   "source": [
    "Part 1: Create a Financial Planner for Emergencies\r\n",
    "Evaluate the Cryptocurrency Wallet by Using the Requests Library\r\n",
    "In this section, you’ll determine the current value of a member’s cryptocurrency wallet. You’ll collect the current prices for the Bitcoin and Ethereum cryptocurrencies by using the Python Requests library. For the prototype, you’ll assume that the member holds the 1.2 Bitcoins (BTC) and 5.3 Ethereum coins (ETH). To do all this, complete the following steps:\r\n",
    "\r\n",
    "Create a variable named monthly_income, and set its value to 12000.\r\n",
    "\r\n",
    "Use the Requests library to get the current price (in US dollars) of Bitcoin (BTC) and Ethereum (ETH) by using the API endpoints that the starter code supplies.\r\n",
    "\r\n",
    "Navigate the JSON response object to access the current price of each coin, and store each in a variable.\r\n",
    "\r\n",
    "Hint Note the specific identifier for each cryptocurrency in the API JSON response. The Bitcoin identifier is 1, and the Ethereum identifier is 1027.\r\n",
    "\r\n",
    "Calculate the value, in US dollars, of the current amount of each cryptocurrency and of the entire cryptocurrency wallet."
   ],
   "metadata": {}
  },
  {
   "cell_type": "code",
   "execution_count": 3,
   "source": [
    "# The current number of coins for each cryptocurrency asset held in the portfolio.\r\n",
    "btc_coins = 1.2\r\n",
    "eth_coins = 5.3"
   ],
   "outputs": [],
   "metadata": {}
  },
  {
   "cell_type": "markdown",
   "source": [
    "Step 1: Create a variable named monthly_income, and set its value to 12000."
   ],
   "metadata": {}
  },
  {
   "cell_type": "code",
   "execution_count": 4,
   "source": [
    "# The monthly amount for the member's household income\r\n",
    "monthly_income = 12000"
   ],
   "outputs": [],
   "metadata": {}
  },
  {
   "cell_type": "markdown",
   "source": [
    "Review the endpoint URLs for the API calls to Free Crypto API in order to get the current pricing information for both BTC and ETH."
   ],
   "metadata": {}
  },
  {
   "cell_type": "code",
   "execution_count": 5,
   "source": [
    "# The Free Crypto API Call endpoint URLs for the held cryptocurrency assets\r\n",
    "btc_url = \"https://api.alternative.me/v2/ticker/Bitcoin/?convert=USD\"\r\n",
    "eth_url = \"https://api.alternative.me/v2/ticker/Ethereum/?convert=USD\""
   ],
   "outputs": [],
   "metadata": {}
  },
  {
   "cell_type": "markdown",
   "source": [
    "Step 2. Use the Requests library to get the current price (in US dollars) of Bitcoin (BTC) and Ethereum (ETH) by using the API endpoints that the starter code supplied."
   ],
   "metadata": {}
  },
  {
   "cell_type": "code",
   "execution_count": 6,
   "source": [
    "# Using the Python requests library, make an API call to access the current price of BTC\r\n",
    "btc_response = requests.get(btc_url).json()\r\n",
    "\r\n",
    "# Use the json.dumps function to review the response data from the API call\r\n",
    "# Use the indent and sort_keys parameters to make the response object readable\r\n",
    "print(json.dumps(btc_response, indent=3, sort_keys=True))"
   ],
   "outputs": [
    {
     "output_type": "stream",
     "name": "stdout",
     "text": [
      "{\n",
      "   \"data\": {\n",
      "      \"1\": {\n",
      "         \"circulating_supply\": 18845575,\n",
      "         \"id\": 1,\n",
      "         \"last_updated\": 1634416761,\n",
      "         \"max_supply\": 21000000,\n",
      "         \"name\": \"Bitcoin\",\n",
      "         \"quotes\": {\n",
      "            \"USD\": {\n",
      "               \"market_cap\": 1147403742650,\n",
      "               \"percent_change_1h\": -0.44643550308366,\n",
      "               \"percent_change_24h\": -2.72170519684967,\n",
      "               \"percent_change_7d\": 12.9794988793271,\n",
      "               \"percentage_change_1h\": -0.44643550308366,\n",
      "               \"percentage_change_24h\": -2.72170519684967,\n",
      "               \"percentage_change_7d\": 12.9794988793271,\n",
      "               \"price\": 61021.0,\n",
      "               \"volume_24h\": 36945431735\n",
      "            }\n",
      "         },\n",
      "         \"rank\": 1,\n",
      "         \"symbol\": \"BTC\",\n",
      "         \"total_supply\": 18845575,\n",
      "         \"website_slug\": \"bitcoin\"\n",
      "      }\n",
      "   },\n",
      "   \"metadata\": {\n",
      "      \"error\": null,\n",
      "      \"num_cryptocurrencies\": 3105,\n",
      "      \"timestamp\": 1634416761\n",
      "   }\n",
      "}\n"
     ]
    }
   ],
   "metadata": {}
  },
  {
   "cell_type": "code",
   "execution_count": 7,
   "source": [
    "# Using the Python requests library, make an API call to access the current price ETH\r\n",
    "eth_response = requests.get(eth_url).json()\r\n",
    "\r\n",
    "# Use the json.dumps function to review the response data from the API call\r\n",
    "# Use the indent and sort_keys parameters to make the response object readable\r\n",
    "print(json.dumps(eth_response, indent=3, sort_keys=True))"
   ],
   "outputs": [
    {
     "output_type": "stream",
     "name": "stdout",
     "text": [
      "{\n",
      "   \"data\": {\n",
      "      \"1027\": {\n",
      "         \"circulating_supply\": 117954416,\n",
      "         \"id\": 1027,\n",
      "         \"last_updated\": 1634416795,\n",
      "         \"max_supply\": 0,\n",
      "         \"name\": \"Ethereum\",\n",
      "         \"quotes\": {\n",
      "            \"USD\": {\n",
      "               \"market_cap\": 450498755177,\n",
      "               \"percent_change_1h\": -0.967176543903829,\n",
      "               \"percent_change_24h\": -1.56194115725602,\n",
      "               \"percent_change_7d\": 7.94086941091257,\n",
      "               \"percentage_change_1h\": -0.967176543903829,\n",
      "               \"percentage_change_24h\": -1.56194115725602,\n",
      "               \"percentage_change_7d\": 7.94086941091257,\n",
      "               \"price\": 3841.13,\n",
      "               \"volume_24h\": 18630107184\n",
      "            }\n",
      "         },\n",
      "         \"rank\": 2,\n",
      "         \"symbol\": \"ETH\",\n",
      "         \"total_supply\": 117954416,\n",
      "         \"website_slug\": \"ethereum\"\n",
      "      }\n",
      "   },\n",
      "   \"metadata\": {\n",
      "      \"error\": null,\n",
      "      \"num_cryptocurrencies\": 3105,\n",
      "      \"timestamp\": 1634416795\n",
      "   }\n",
      "}\n"
     ]
    }
   ],
   "metadata": {}
  },
  {
   "cell_type": "markdown",
   "source": [
    "Step 3: Navigate the JSON response object to access the current price of each coin, and store each in a variable."
   ],
   "metadata": {}
  },
  {
   "cell_type": "code",
   "execution_count": 8,
   "source": [
    "# Navigate the BTC response object to access the current price of BTC\r\n",
    "btc_price = btc_response[\"data\"][\"1\"][\"quotes\"][\"USD\"][\"price\"]\r\n",
    "\r\n",
    "# Print the current price of BTC\r\n",
    "print(f\"The current price of Bitcoin is ${btc_price: .2f}\")"
   ],
   "outputs": [
    {
     "output_type": "stream",
     "name": "stdout",
     "text": [
      "The current price of Bitcoin is $ 61021.00\n"
     ]
    }
   ],
   "metadata": {}
  },
  {
   "cell_type": "code",
   "execution_count": 9,
   "source": [
    "# Navigate the BTC response object to access the current price of ETH\r\n",
    "eth_price = eth_response[\"data\"][\"1027\"][\"quotes\"][\"USD\"][\"price\"]\r\n",
    "\r\n",
    "# Print the current price of ETH\r\n",
    "print(f\"The current price of Ethereum is ${eth_price: .2f}\")"
   ],
   "outputs": [
    {
     "output_type": "stream",
     "name": "stdout",
     "text": [
      "The current price of Ethereum is $ 3841.13\n"
     ]
    }
   ],
   "metadata": {}
  },
  {
   "cell_type": "markdown",
   "source": [
    "Step 4: Calculate the value, in US dollars, of the current amount of each cryptocurrency and of the entire cryptocurrency wallet."
   ],
   "metadata": {}
  },
  {
   "cell_type": "code",
   "execution_count": 10,
   "source": [
    "# Compute the current value of the BTC holding \r\n",
    "btc_value = btc_coins * btc_price\r\n",
    "\r\n",
    "# Print current value of your holding in BTC\r\n",
    "print(f\"The current value of your Bitcoin holdings is ${btc_value: .2f}\")"
   ],
   "outputs": [
    {
     "output_type": "stream",
     "name": "stdout",
     "text": [
      "The current value of your Bitcoin holdings is $ 73225.20\n"
     ]
    }
   ],
   "metadata": {}
  },
  {
   "cell_type": "code",
   "execution_count": 11,
   "source": [
    "# Compute the current value of the ETH holding\r\n",
    "eth_value = eth_coins * eth_price \r\n",
    "\r\n",
    "# Print current value of your holding in ETH\r\n",
    "print(f\"The current value of your Ethereum holdings is ${eth_value: .2f}\")"
   ],
   "outputs": [
    {
     "output_type": "stream",
     "name": "stdout",
     "text": [
      "The current value of your Ethereum holdings is $ 20357.99\n"
     ]
    }
   ],
   "metadata": {}
  },
  {
   "cell_type": "code",
   "execution_count": 12,
   "source": [
    "# Compute the total value of the cryptocurrency wallet\r\n",
    "# Add the value of the BTC holding to the value of the ETH holding\r\n",
    "total_crypto_wallet = btc_value + eth_value\r\n",
    "\r\n",
    "# Print current cryptocurrency wallet balance\r\n",
    "print(f\"The current total value of your cryptocurrency holdings is ${total_crypto_wallet: .2f}\")"
   ],
   "outputs": [
    {
     "output_type": "stream",
     "name": "stdout",
     "text": [
      "The current total value of your cryptocurrency holdings is $ 93583.19\n"
     ]
    }
   ],
   "metadata": {}
  },
  {
   "cell_type": "markdown",
   "source": [
    "Evaluate the Stock and Bond Holdings by Using the Alpaca SDK\r\n",
    "In this section, you’ll determine the current value of a member’s stock and bond holdings. You’ll make an API call to Alpaca via the Alpaca SDK to get the current closing prices of the SPDR S&P 500 ETF Trust (ticker: SPY) and of the iShares Core US Aggregate Bond ETF (ticker: AGG). For the prototype, assume that the member holds 110 shares of SPY, which represents the stock portion of their portfolio, and 200 shares of AGG, which represents the bond portion. To do all this, complete the following steps:\r\n",
    "\r\n",
    "In the Starter_Code folder, create an environment file (.env) to store the values of your Alpaca API key and Alpaca secret key.\r\n",
    "\r\n",
    "Set the variables for the Alpaca API and secret keys. Using the Alpaca SDK, create the Alpaca tradeapi.REST object. In this object, include the parameters for the Alpaca API key, the secret key, and the version number.\r\n",
    "\r\n",
    "Set the following parameters for the Alpaca API call:\r\n",
    "\r\n",
    "tickers: Use the tickers for the member’s stock and bond holdings.\r\n",
    "\r\n",
    "timeframe: Use a time frame of one day.\r\n",
    "\r\n",
    "start_date and end_date: Use the same date for these parameters, and format them with the date of the previous weekday (or 2020-08-07). This is because you want the one closing price for the most-recent trading day.\r\n",
    "\r\n",
    "Get the current closing prices for SPY and AGG by using the Alpaca get_barset function. Format the response as a Pandas DataFrame by including the df property at the end of the get_barset function.\r\n",
    "\r\n",
    "Navigating the Alpaca response DataFrame, select the SPY and AGG closing prices, and store them as variables.\r\n",
    "\r\n",
    "Calculate the value, in US dollars, of the current amount of shares in each of the stock and bond portions of the portfolio, and print the results."
   ],
   "metadata": {}
  },
  {
   "cell_type": "markdown",
   "source": [
    "Review the total number of shares held in both (SPY) and (AGG)."
   ],
   "metadata": {}
  },
  {
   "cell_type": "code",
   "execution_count": 13,
   "source": [
    "# Current amount of shares held in both the stock (SPY) and bond (AGG) portion of the portfolio.\r\n",
    "spy_shares = 110\r\n",
    "agg_shares = 200"
   ],
   "outputs": [],
   "metadata": {}
  },
  {
   "cell_type": "markdown",
   "source": [
    "Step 1: In the Starter_Code folder, create an environment file (.env) to store the values of your Alpaca API key and Alpaca secret key."
   ],
   "metadata": {}
  },
  {
   "cell_type": "markdown",
   "source": [
    "Step 2: Set the variables for the Alpaca API and secret keys. Using the Alpaca SDK, create the Alpaca tradeapi.REST object. In this object, include the parameters for the Alpaca API key, the secret key, and the version number."
   ],
   "metadata": {}
  },
  {
   "cell_type": "code",
   "execution_count": 14,
   "source": [
    "# Set the variables for the Alpaca API and secret keys\r\n",
    "alpaca_api_key = os.getenv(\"ALPACA_API_KEY\")\r\n",
    "alpaca_secret_key = os.getenv(\"ALPACA_SECRET_KEY\")\r\n",
    "display(type(alpaca_api_key))\r\n",
    "display(type(alpaca_secret_key))\r\n",
    "\r\n",
    "# Create the Alpaca tradeapi.REST object\r\n",
    "alpaca = tradeapi.REST(\r\n",
    "  alpaca_api_key,\r\n",
    "  alpaca_secret_key,\r\n",
    "  api_version=\"v2\"\r\n",
    ")\r\n",
    "\r\n",
    "print(alpaca)"
   ],
   "outputs": [
    {
     "output_type": "display_data",
     "data": {
      "text/plain": [
       "str"
      ]
     },
     "metadata": {}
    },
    {
     "output_type": "display_data",
     "data": {
      "text/plain": [
       "str"
      ]
     },
     "metadata": {}
    },
    {
     "output_type": "stream",
     "name": "stdout",
     "text": [
      "<alpaca_trade_api.rest.REST object at 0x0000015378181248>\n"
     ]
    }
   ],
   "metadata": {}
  },
  {
   "cell_type": "markdown",
   "source": [
    "Step 3: Set the following parameters for the Alpaca API call:\r\n",
    "tickers: Use the tickers for the member’s stock and bond holdings.\r\n",
    "\r\n",
    "timeframe: Use a time frame of one day.\r\n",
    "\r\n",
    "start_date and end_date: Use the same date for these parameters, and format them with the date of the previous weekday (or 2020-08-07). This is because you want the one closing price for the most-recent trading day."
   ],
   "metadata": {}
  },
  {
   "cell_type": "code",
   "execution_count": 15,
   "source": [
    "# Set the tickers for both the bond and stock portion of the portfolio\r\n",
    "tickers = [\"SPY\", \"AGG\"]\r\n",
    "\r\n",
    "# Set timeframe to 1D \r\n",
    "timeframe = \"1D\"\r\n",
    "\r\n",
    "# Format current date as ISO format\r\n",
    "# Set both the start and end date at the date of your prior weekday \r\n",
    "# This will give you the closing price of the previous trading day\r\n",
    "# Alternatively you can use a start and end date of 2020-08-07\r\n",
    "start_date = pd.Timestamp(\"2021-10-14\", tz=\"America/New_York\").isoformat()\r\n",
    "end_date = pd.Timestamp(\"2021-10-14\", tz=\"America/New_York\").isoformat()\r\n"
   ],
   "outputs": [],
   "metadata": {}
  },
  {
   "cell_type": "markdown",
   "source": [
    "Step 4: Get the current closing prices for SPY and AGG by using the Alpaca get_barset function. Format the response as a Pandas DataFrame by including the df property at the end of the get_barset function."
   ],
   "metadata": {}
  },
  {
   "cell_type": "code",
   "execution_count": 16,
   "source": [
    "# Use the Alpaca get_barset function to get current closing prices the portfolio\r\n",
    "# Be sure to set the `df` property after the function to format the response object as a DataFrame\r\n",
    "prices_df = alpaca.get_barset(\r\n",
    "  tickers,\r\n",
    "  timeframe,\r\n",
    "  start=start_date,\r\n",
    "  end=end_date\r\n",
    ").df\r\n",
    "\r\n",
    "# Review the first 5 rows of the Alpaca DataFrame\r\n",
    "prices_df.head()\r\n"
   ],
   "outputs": [
    {
     "output_type": "execute_result",
     "data": {
      "text/html": [
       "<div>\n",
       "<style scoped>\n",
       "    .dataframe tbody tr th:only-of-type {\n",
       "        vertical-align: middle;\n",
       "    }\n",
       "\n",
       "    .dataframe tbody tr th {\n",
       "        vertical-align: top;\n",
       "    }\n",
       "\n",
       "    .dataframe thead tr th {\n",
       "        text-align: left;\n",
       "    }\n",
       "\n",
       "    .dataframe thead tr:last-of-type th {\n",
       "        text-align: right;\n",
       "    }\n",
       "</style>\n",
       "<table border=\"1\" class=\"dataframe\">\n",
       "  <thead>\n",
       "    <tr>\n",
       "      <th></th>\n",
       "      <th colspan=\"5\" halign=\"left\">AGG</th>\n",
       "      <th colspan=\"5\" halign=\"left\">SPY</th>\n",
       "    </tr>\n",
       "    <tr>\n",
       "      <th></th>\n",
       "      <th>open</th>\n",
       "      <th>high</th>\n",
       "      <th>low</th>\n",
       "      <th>close</th>\n",
       "      <th>volume</th>\n",
       "      <th>open</th>\n",
       "      <th>high</th>\n",
       "      <th>low</th>\n",
       "      <th>close</th>\n",
       "      <th>volume</th>\n",
       "    </tr>\n",
       "    <tr>\n",
       "      <th>time</th>\n",
       "      <th></th>\n",
       "      <th></th>\n",
       "      <th></th>\n",
       "      <th></th>\n",
       "      <th></th>\n",
       "      <th></th>\n",
       "      <th></th>\n",
       "      <th></th>\n",
       "      <th></th>\n",
       "      <th></th>\n",
       "    </tr>\n",
       "  </thead>\n",
       "  <tbody>\n",
       "    <tr>\n",
       "      <th>2021-10-14 00:00:00-04:00</th>\n",
       "      <td>114.7</td>\n",
       "      <td>114.8496</td>\n",
       "      <td>114.63</td>\n",
       "      <td>114.84</td>\n",
       "      <td>3540673</td>\n",
       "      <td>439.08</td>\n",
       "      <td>442.66</td>\n",
       "      <td>438.58</td>\n",
       "      <td>442.47</td>\n",
       "      <td>59812568</td>\n",
       "    </tr>\n",
       "  </tbody>\n",
       "</table>\n",
       "</div>"
      ],
      "text/plain": [
       "                             AGG                                        SPY  \\\n",
       "                            open      high     low   close   volume    open   \n",
       "time                                                                          \n",
       "2021-10-14 00:00:00-04:00  114.7  114.8496  114.63  114.84  3540673  439.08   \n",
       "\n",
       "                                                             \n",
       "                             high     low   close    volume  \n",
       "time                                                         \n",
       "2021-10-14 00:00:00-04:00  442.66  438.58  442.47  59812568  "
      ]
     },
     "metadata": {},
     "execution_count": 16
    }
   ],
   "metadata": {}
  },
  {
   "cell_type": "markdown",
   "source": [
    "Step 5: Navigating the Alpaca response DataFrame, select the SPY and AGG closing prices, and store them as variables."
   ],
   "metadata": {}
  },
  {
   "cell_type": "code",
   "execution_count": 17,
   "source": [
    "# Access the closing price for AGG from the Alpaca DataFrame\r\n",
    "# Converting the value to a floating point number\r\n",
    "agg_close_price = float(prices_df[\"AGG\"][\"close\"])\r\n",
    "\r\n",
    "# Print the AGG closing price\r\n",
    "print(f\"The closing price of the iShares Core US Aggregate Bond ETF is ${agg_close_price}\")"
   ],
   "outputs": [
    {
     "output_type": "stream",
     "name": "stdout",
     "text": [
      "The closing price of the iShares Core US Aggregate Bond ETF is $114.84\n"
     ]
    }
   ],
   "metadata": {}
  },
  {
   "cell_type": "code",
   "execution_count": 18,
   "source": [
    "# Access the closing price for SPY from the Alpaca DataFrame\r\n",
    "# Converting the value to a floating point number\r\n",
    "spy_closing_price = float(prices_df[\"SPY\"][\"close\"])\r\n",
    "\r\n",
    "# Print the SPY closing price\r\n",
    "print(f\"The closing price of the SPDR S&P 500 Trust ETF is ${spy_closing_price}\")"
   ],
   "outputs": [
    {
     "output_type": "stream",
     "name": "stdout",
     "text": [
      "The closing price of the SPDR S&P 500 Trust ETF is $442.47\n"
     ]
    }
   ],
   "metadata": {}
  },
  {
   "cell_type": "markdown",
   "source": [
    "Step 6: Calculate the value, in US dollars, of the current amount of shares in each of the stock and bond portions of the portfolio, and print the results."
   ],
   "metadata": {}
  },
  {
   "cell_type": "code",
   "execution_count": 19,
   "source": [
    "# Calculate the current value of the bond portion of the portfolio\r\n",
    "agg_value = agg_shares * agg_close_price\r\n",
    "\r\n",
    "# Print the current value of the bond portfolio\r\n",
    "print(f\"The current value of iShares Core US Aggregate Bond ETF in your portfolio is ${agg_value: .2f}\")"
   ],
   "outputs": [
    {
     "output_type": "stream",
     "name": "stdout",
     "text": [
      "The current value of iShares Core US Aggregate Bond ETF in your portfolio is $ 22968.00\n"
     ]
    }
   ],
   "metadata": {}
  },
  {
   "cell_type": "code",
   "execution_count": 20,
   "source": [
    "# Calculate the current value of the stock portion of the portfolio\r\n",
    "spy_value = spy_shares * spy_closing_price\r\n",
    "\r\n",
    "# Print the current value of the stock portfolio\r\n",
    "print(f\"The current value of the SPDR S&P 500 Trust ETF in your portfolio is ${spy_value: .2f}\")"
   ],
   "outputs": [
    {
     "output_type": "stream",
     "name": "stdout",
     "text": [
      "The current value of the SPDR S&P 500 Trust ETF in your portfolio is $ 48671.70\n"
     ]
    }
   ],
   "metadata": {}
  },
  {
   "cell_type": "code",
   "execution_count": 21,
   "source": [
    "# Calculate the total value of the stock and bond portion of the portfolio\r\n",
    "total_stocks_bonds = agg_value + spy_value\r\n",
    "\r\n",
    "# Print the current balance of the stock and bond portion of the portfolio\r\n",
    "print(f\"The current value of your Stocks and Bonds Portfolio is ${total_stocks_bonds: .2f}\")"
   ],
   "outputs": [
    {
     "output_type": "stream",
     "name": "stdout",
     "text": [
      "The current value of your Stocks and Bonds Portfolio is $ 71639.70\n"
     ]
    }
   ],
   "metadata": {}
  },
  {
   "cell_type": "code",
   "execution_count": 22,
   "source": [
    "# Calculate the total value of the member's entire savings portfolio\r\n",
    "# Add the value of the cryptocurrency walled to the value of the total stocks and bonds\r\n",
    "total_portfolio = total_crypto_wallet + total_stocks_bonds\r\n",
    "\r\n",
    "# Print current total portfolio balance\r\n",
    "print(f\"The current total value of your portfolio is ${total_portfolio: .2f}\")"
   ],
   "outputs": [
    {
     "output_type": "stream",
     "name": "stdout",
     "text": [
      "The current total value of your portfolio is $ 165222.89\n"
     ]
    }
   ],
   "metadata": {}
  },
  {
   "cell_type": "markdown",
   "source": [
    "Evaluate the Emergency Fund\r\n",
    "In this section, you’ll use the valuations for the cryptocurrency wallet and for the stock and bond portions of the portfolio to determine if the credit union member has enough savings to build an emergency fund into their financial plan. To do this, complete the following steps:\r\n",
    "\r\n",
    "Create a Python list named savings_data that has two elements. The first element contains the total value of the cryptocurrency wallet. The second element contains the total value of the stock and bond portions of the portfolio.\r\n",
    "\r\n",
    "Use the savings_data list to create a Pandas DataFrame named savings_df, and then display this DataFrame. The function to create the DataFrame should take the following three parameters:\r\n",
    "\r\n",
    "savings_data: Use the list that you just created.\r\n",
    "\r\n",
    "columns: Set this parameter equal to a Python list with a single value called amount.\r\n",
    "\r\n",
    "index: Set this parameter equal to a Python list with the values of crypto and stock/bond.\r\n",
    "\r\n",
    "Use the savings_df DataFrame to plot a pie chart that visualizes the composition of the member’s portfolio. The y-axis of the pie chart uses amount. Be sure to add a title.\r\n",
    "\r\n",
    "Using Python, determine if the current portfolio has enough to create an emergency fund as part of the member’s financial plan. Ideally, an emergency fund should equal to three times the member’s monthly income. To do this, implement the following steps:\r\n",
    "\r\n",
    "Create a variable named emergency_fund_value, and set it equal to three times the value of the member’s monthly_income of $12000. (You set this earlier in Part 1).\r\n",
    "\r\n",
    "Create a series of three if statements to determine if the member’s total portfolio is large enough to fund the emergency portfolio:\r\n",
    "\r\n",
    "If the total portfolio value is greater than the emergency fund value, display a message congratulating the member for having enough money in this fund.\r\n",
    "\r\n",
    "Else if the total portfolio value is equal to the emergency fund value, display a message congratulating the member on reaching this important financial goal.\r\n",
    "\r\n",
    "Else the total portfolio is less than the emergency fund value, so display a message showing how many dollars away the member is from reaching the goal. (Subtract the total portfolio value from the emergency fund value.)"
   ],
   "metadata": {}
  },
  {
   "cell_type": "markdown",
   "source": [
    "Step 1: Create a Python list named savings_data that has two elements. The first element contains the total value of the cryptocurrency wallet. The second element contains the total value of the stock and bond portions of the portfolio."
   ],
   "metadata": {}
  },
  {
   "cell_type": "code",
   "execution_count": 23,
   "source": [
    "# Consolidate financial assets data into a Python list\r\n",
    "savings_data = [total_crypto_wallet, total_stocks_bonds]\r\n",
    "\r\n",
    "# Review the Python list savings_data\r\n",
    "savings_data\r\n"
   ],
   "outputs": [
    {
     "output_type": "execute_result",
     "data": {
      "text/plain": [
       "[93583.189, 71639.70000000001]"
      ]
     },
     "metadata": {},
     "execution_count": 23
    }
   ],
   "metadata": {}
  },
  {
   "cell_type": "markdown",
   "source": [
    "Step 2: Use the savings_data list to create a Pandas DataFrame named savings_df, and then display this DataFrame. The function to create the DataFrame should take the following three parameters:\r\n",
    "savings_data: Use the list that you just created.\r\n",
    "\r\n",
    "columns: Set this parameter equal to a Python list with a single value called amount.\r\n",
    "\r\n",
    "index: Set this parameter equal to a Python list with the values of crypto and stock/bond."
   ],
   "metadata": {}
  },
  {
   "cell_type": "code",
   "execution_count": 24,
   "source": [
    "# Create a Pandas DataFrame called savings_df \r\n",
    "savings_df = pd.DataFrame(savings_data, columns=[\"amount\"], index=[\"crypto\", \"stock/bond\"])\r\n",
    "\r\n",
    "# Display the savings_df DataFrame\r\n",
    "print(savings_df)"
   ],
   "outputs": [
    {
     "output_type": "stream",
     "name": "stdout",
     "text": [
      "               amount\n",
      "crypto      93583.189\n",
      "stock/bond  71639.700\n"
     ]
    }
   ],
   "metadata": {}
  },
  {
   "cell_type": "markdown",
   "source": [
    "Step 3: Use the savings_df DataFrame to plot a pie chart that visualizes the composition of the member’s portfolio. The y-axis of the pie chart uses amount. Be sure to add a title."
   ],
   "metadata": {}
  },
  {
   "cell_type": "code",
   "execution_count": 25,
   "source": [
    "# Plot the total value of the member's portfolio (crypto and stock/bond) in a pie chart\r\n",
    "savings_df.plot.pie(y=\"amount\", figsize=(15,10), title=\"Current Portfolio Composition\")"
   ],
   "outputs": [
    {
     "output_type": "execute_result",
     "data": {
      "text/plain": [
       "<AxesSubplot:title={'center':'Current Portfolio Composition'}, ylabel='amount'>"
      ]
     },
     "metadata": {},
     "execution_count": 25
    },
    {
     "output_type": "display_data",
     "data": {
      "image/png": "[encoded data removed]",
      "text/plain": [
       "<Figure size 1080x720 with 1 Axes>"
      ]
     },
     "metadata": {}
    }
   ],
   "metadata": {}
  },
  {
   "cell_type": "markdown",
   "source": [
    "Step 4: Using Python, determine if the current portfolio has enough to create an emergency fund as part of the member’s financial plan. Ideally, an emergency fund should equal to three times the member’s monthly income. To do this, implement the following steps:\r\n",
    "Step 1. Create a variable named emergency_fund_value, and set it equal to three times the value of the member’s monthly_income of 12000. (You set this earlier in Part 1).\r\n",
    "\r\n",
    "Step 2. Create a series of three if statements to determine if the member’s total portfolio is large enough to fund the emergency portfolio:\r\n",
    "\r\n",
    "If the total portfolio value is greater than the emergency fund value, display a message congratulating the member for having enough money in this fund.\r\n",
    "\r\n",
    "Else if the total portfolio value is equal to the emergency fund value, display a message congratulating the member on reaching this important financial goal.\r\n",
    "\r\n",
    "Else the total portfolio is less than the emergency fund value, so display a message showing how many dollars away the member is from reaching the goal. (Subtract the total portfolio value from the emergency fund value.)"
   ],
   "metadata": {}
  },
  {
   "cell_type": "markdown",
   "source": [
    "Step 4-1: Create a variable named emergency_fund_value, and set it equal to three times the value of the member’s monthly_income of 12000. (You set this earlier in Part 1)."
   ],
   "metadata": {}
  },
  {
   "cell_type": "code",
   "execution_count": 26,
   "source": [
    "# Create a variable named emergency_fund_value\r\n",
    "emergency_fund_value = monthly_income * 3\r\n",
    "\r\n",
    "emergency_fund_value"
   ],
   "outputs": [
    {
     "output_type": "execute_result",
     "data": {
      "text/plain": [
       "36000"
      ]
     },
     "metadata": {},
     "execution_count": 26
    }
   ],
   "metadata": {}
  },
  {
   "cell_type": "markdown",
   "source": [
    "Step 4-2: Create a series of three if statements to determine if the member’s total portfolio is large enough to fund the emergency portfolio:\r\n",
    "If the total portfolio value is greater than the emergency fund value, display a message congratulating the member for having enough money in this fund.\r\n",
    "\r\n",
    "Else if the total portfolio value is equal to the emergency fund value, display a message congratulating the member on reaching this important financial goal.\r\n",
    "\r\n",
    "Else the total portfolio is less than the emergency fund value, so display a message showing how many dollars away the member is from reaching the goal. (Subtract the total portfolio value from the emergency fund value.)"
   ],
   "metadata": {}
  },
  {
   "cell_type": "code",
   "execution_count": 27,
   "source": [
    "# Evaluate the possibility of creating an emergency fund with 3 conditions:\r\n",
    "if total_portfolio > emergency_fund_value:\r\n",
    "  print(\"Congratulations for having enough value in your portfolio to create an emergency fund!\")\r\n",
    "elif total_portfolio == emergency_fund_value:\r\n",
    "  print(\"Congratulations for reaching this important financial goal! Keep it up!\")\r\n",
    "else:\r\n",
    "  print(f\"You are only ${(emergency_fund_value - total_portfolio): .2f} away from being able to start an emergency fund.\")"
   ],
   "outputs": [
    {
     "output_type": "stream",
     "name": "stdout",
     "text": [
      "Congratulations for having enough value in your portfolio to create an emergency fund!\n"
     ]
    }
   ],
   "metadata": {}
  },
  {
   "cell_type": "markdown",
   "source": [
    "Part 2: Create a Financial Planner for Retirement\r\n",
    "Create the Monte Carlo Simulation\r\n",
    "In this section, you’ll use the MCForecastTools library to create a Monte Carlo simulation for the member’s savings portfolio. To do this, complete the following steps:\r\n",
    "\r\n",
    "Make an API call via the Alpaca SDK to get 3 years of historical closing prices for a traditional 60/40 portfolio split: 60% stocks (SPY) and 40% bonds (AGG).\r\n",
    "\r\n",
    "Run a Monte Carlo simulation of 500 samples and 30 years for the 60/40 portfolio, and then plot the results.\r\n",
    "\r\n",
    "Plot the probability distribution of the Monte Carlo simulation. \r\n",
    "\r\n",
    "Generate the summary statistics for the Monte Carlo simulation."
   ],
   "metadata": {}
  },
  {
   "cell_type": "markdown",
   "source": [
    "Step 1: Make an API call via the Alpaca SDK to get 3 years of historical closing prices for a traditional 60/40 portfolio split: 60% stocks (SPY) and 40% bonds (AGG)."
   ],
   "metadata": {}
  },
  {
   "cell_type": "code",
   "execution_count": 30,
   "source": [
    "# Set start and end dates of 5 years back from your current date\r\n",
    "# Alternatively, you can use an end date of 2020-08-07 and work 5 years back from that date \r\n",
    "start_date = pd.Timestamp(\"2016-10-15\", tz=\"America/New_York\").isoformat()\r\n",
    "end_date = pd.Timestamp(\"2021-10-15\", tz=\"America/New_York\").isoformat()\r\n",
    "\r\n",
    "# Set number of rows to 1000 to retrieve the maximum amount of rows\r\n",
    "limit_rows = 1000\r\n"
   ],
   "outputs": [],
   "metadata": {}
  },
  {
   "cell_type": "code",
   "execution_count": 31,
   "source": [
    "# Use the Alpaca get_barset function to make the API call to get the 5 years worth of pricing data\r\n",
    "# The tickers and timeframe parameters should have been set in Part 1 of this activity \r\n",
    "# The start and end dates should be updated with the information set above\r\n",
    "# Remember to add the df property to the end of the call so the response is returned as a DataFrame\r\n",
    "pricing_data = alpaca.get_barset(\r\n",
    "  tickers,\r\n",
    "  timeframe,\r\n",
    "  start=start_date,\r\n",
    "  end=end_date,\r\n",
    "  limit=limit_rows\r\n",
    ").df\r\n",
    "\r\n",
    "\r\n",
    "# Display both the first and last five rows of the DataFrame\r\n",
    "display(pricing_data.head())\r\n",
    "display(pricing_data.tail())"
   ],
   "outputs": [
    {
     "output_type": "display_data",
     "data": {
      "text/html": [
       "<div>\n",
       "<style scoped>\n",
       "    .dataframe tbody tr th:only-of-type {\n",
       "        vertical-align: middle;\n",
       "    }\n",
       "\n",
       "    .dataframe tbody tr th {\n",
       "        vertical-align: top;\n",
       "    }\n",
       "\n",
       "    .dataframe thead tr th {\n",
       "        text-align: left;\n",
       "    }\n",
       "\n",
       "    .dataframe thead tr:last-of-type th {\n",
       "        text-align: right;\n",
       "    }\n",
       "</style>\n",
       "<table border=\"1\" class=\"dataframe\">\n",
       "  <thead>\n",
       "    <tr>\n",
       "      <th></th>\n",
       "      <th colspan=\"5\" halign=\"left\">AGG</th>\n",
       "      <th colspan=\"5\" halign=\"left\">SPY</th>\n",
       "    </tr>\n",
       "    <tr>\n",
       "      <th></th>\n",
       "      <th>open</th>\n",
       "      <th>high</th>\n",
       "      <th>low</th>\n",
       "      <th>close</th>\n",
       "      <th>volume</th>\n",
       "      <th>open</th>\n",
       "      <th>high</th>\n",
       "      <th>low</th>\n",
       "      <th>close</th>\n",
       "      <th>volume</th>\n",
       "    </tr>\n",
       "    <tr>\n",
       "      <th>time</th>\n",
       "      <th></th>\n",
       "      <th></th>\n",
       "      <th></th>\n",
       "      <th></th>\n",
       "      <th></th>\n",
       "      <th></th>\n",
       "      <th></th>\n",
       "      <th></th>\n",
       "      <th></th>\n",
       "      <th></th>\n",
       "    </tr>\n",
       "  </thead>\n",
       "  <tbody>\n",
       "    <tr>\n",
       "      <th>2017-10-25 00:00:00-04:00</th>\n",
       "      <td>108.96</td>\n",
       "      <td>109.130</td>\n",
       "      <td>108.950</td>\n",
       "      <td>109.11</td>\n",
       "      <td>2706969.0</td>\n",
       "      <td>NaN</td>\n",
       "      <td>NaN</td>\n",
       "      <td>NaN</td>\n",
       "      <td>NaN</td>\n",
       "      <td>NaN</td>\n",
       "    </tr>\n",
       "    <tr>\n",
       "      <th>2017-10-26 00:00:00-04:00</th>\n",
       "      <td>109.20</td>\n",
       "      <td>109.229</td>\n",
       "      <td>108.980</td>\n",
       "      <td>109.00</td>\n",
       "      <td>1488075.0</td>\n",
       "      <td>255.99</td>\n",
       "      <td>256.30</td>\n",
       "      <td>255.560</td>\n",
       "      <td>255.59</td>\n",
       "      <td>37718330.0</td>\n",
       "    </tr>\n",
       "    <tr>\n",
       "      <th>2017-10-27 00:00:00-04:00</th>\n",
       "      <td>109.07</td>\n",
       "      <td>109.260</td>\n",
       "      <td>109.035</td>\n",
       "      <td>109.24</td>\n",
       "      <td>1527412.0</td>\n",
       "      <td>256.50</td>\n",
       "      <td>257.89</td>\n",
       "      <td>256.160</td>\n",
       "      <td>257.68</td>\n",
       "      <td>49910859.0</td>\n",
       "    </tr>\n",
       "    <tr>\n",
       "      <th>2017-10-30 00:00:00-04:00</th>\n",
       "      <td>109.43</td>\n",
       "      <td>109.560</td>\n",
       "      <td>109.360</td>\n",
       "      <td>109.53</td>\n",
       "      <td>1719161.0</td>\n",
       "      <td>257.07</td>\n",
       "      <td>257.60</td>\n",
       "      <td>256.410</td>\n",
       "      <td>256.80</td>\n",
       "      <td>37073374.0</td>\n",
       "    </tr>\n",
       "    <tr>\n",
       "      <th>2017-10-31 00:00:00-04:00</th>\n",
       "      <td>109.52</td>\n",
       "      <td>109.550</td>\n",
       "      <td>109.440</td>\n",
       "      <td>109.45</td>\n",
       "      <td>2427946.0</td>\n",
       "      <td>257.18</td>\n",
       "      <td>257.44</td>\n",
       "      <td>256.805</td>\n",
       "      <td>257.11</td>\n",
       "      <td>35711419.0</td>\n",
       "    </tr>\n",
       "  </tbody>\n",
       "</table>\n",
       "</div>"
      ],
      "text/plain": [
       "                              AGG                                       \\\n",
       "                             open     high      low   close     volume   \n",
       "time                                                                     \n",
       "2017-10-25 00:00:00-04:00  108.96  109.130  108.950  109.11  2706969.0   \n",
       "2017-10-26 00:00:00-04:00  109.20  109.229  108.980  109.00  1488075.0   \n",
       "2017-10-27 00:00:00-04:00  109.07  109.260  109.035  109.24  1527412.0   \n",
       "2017-10-30 00:00:00-04:00  109.43  109.560  109.360  109.53  1719161.0   \n",
       "2017-10-31 00:00:00-04:00  109.52  109.550  109.440  109.45  2427946.0   \n",
       "\n",
       "                              SPY                                       \n",
       "                             open    high      low   close      volume  \n",
       "time                                                                    \n",
       "2017-10-25 00:00:00-04:00     NaN     NaN      NaN     NaN         NaN  \n",
       "2017-10-26 00:00:00-04:00  255.99  256.30  255.560  255.59  37718330.0  \n",
       "2017-10-27 00:00:00-04:00  256.50  257.89  256.160  257.68  49910859.0  \n",
       "2017-10-30 00:00:00-04:00  257.07  257.60  256.410  256.80  37073374.0  \n",
       "2017-10-31 00:00:00-04:00  257.18  257.44  256.805  257.11  35711419.0  "
      ]
     },
     "metadata": {}
    },
    {
     "output_type": "display_data",
     "data": {
      "text/html": [
       "<div>\n",
       "<style scoped>\n",
       "    .dataframe tbody tr th:only-of-type {\n",
       "        vertical-align: middle;\n",
       "    }\n",
       "\n",
       "    .dataframe tbody tr th {\n",
       "        vertical-align: top;\n",
       "    }\n",
       "\n",
       "    .dataframe thead tr th {\n",
       "        text-align: left;\n",
       "    }\n",
       "\n",
       "    .dataframe thead tr:last-of-type th {\n",
       "        text-align: right;\n",
       "    }\n",
       "</style>\n",
       "<table border=\"1\" class=\"dataframe\">\n",
       "  <thead>\n",
       "    <tr>\n",
       "      <th></th>\n",
       "      <th colspan=\"5\" halign=\"left\">AGG</th>\n",
       "      <th colspan=\"5\" halign=\"left\">SPY</th>\n",
       "    </tr>\n",
       "    <tr>\n",
       "      <th></th>\n",
       "      <th>open</th>\n",
       "      <th>high</th>\n",
       "      <th>low</th>\n",
       "      <th>close</th>\n",
       "      <th>volume</th>\n",
       "      <th>open</th>\n",
       "      <th>high</th>\n",
       "      <th>low</th>\n",
       "      <th>close</th>\n",
       "      <th>volume</th>\n",
       "    </tr>\n",
       "    <tr>\n",
       "      <th>time</th>\n",
       "      <th></th>\n",
       "      <th></th>\n",
       "      <th></th>\n",
       "      <th></th>\n",
       "      <th></th>\n",
       "      <th></th>\n",
       "      <th></th>\n",
       "      <th></th>\n",
       "      <th></th>\n",
       "      <th></th>\n",
       "    </tr>\n",
       "  </thead>\n",
       "  <tbody>\n",
       "    <tr>\n",
       "      <th>2021-10-11 00:00:00-04:00</th>\n",
       "      <td>114.01</td>\n",
       "      <td>114.0650</td>\n",
       "      <td>113.940</td>\n",
       "      <td>113.940</td>\n",
       "      <td>1999518.0</td>\n",
       "      <td>437.16</td>\n",
       "      <td>440.26</td>\n",
       "      <td>434.62</td>\n",
       "      <td>434.67</td>\n",
       "      <td>54993389.0</td>\n",
       "    </tr>\n",
       "    <tr>\n",
       "      <th>2021-10-12 00:00:00-04:00</th>\n",
       "      <td>114.17</td>\n",
       "      <td>114.3800</td>\n",
       "      <td>114.110</td>\n",
       "      <td>114.355</td>\n",
       "      <td>3521504.0</td>\n",
       "      <td>435.67</td>\n",
       "      <td>436.10</td>\n",
       "      <td>432.78</td>\n",
       "      <td>433.63</td>\n",
       "      <td>61078594.0</td>\n",
       "    </tr>\n",
       "    <tr>\n",
       "      <th>2021-10-13 00:00:00-04:00</th>\n",
       "      <td>114.43</td>\n",
       "      <td>114.6400</td>\n",
       "      <td>114.415</td>\n",
       "      <td>114.610</td>\n",
       "      <td>5301180.0</td>\n",
       "      <td>434.71</td>\n",
       "      <td>436.05</td>\n",
       "      <td>431.54</td>\n",
       "      <td>435.13</td>\n",
       "      <td>63943229.0</td>\n",
       "    </tr>\n",
       "    <tr>\n",
       "      <th>2021-10-14 00:00:00-04:00</th>\n",
       "      <td>114.70</td>\n",
       "      <td>114.8496</td>\n",
       "      <td>114.630</td>\n",
       "      <td>114.840</td>\n",
       "      <td>3540673.0</td>\n",
       "      <td>439.08</td>\n",
       "      <td>442.66</td>\n",
       "      <td>438.58</td>\n",
       "      <td>442.47</td>\n",
       "      <td>59812568.0</td>\n",
       "    </tr>\n",
       "    <tr>\n",
       "      <th>2021-10-15 00:00:00-04:00</th>\n",
       "      <td>114.61</td>\n",
       "      <td>114.6300</td>\n",
       "      <td>114.510</td>\n",
       "      <td>114.560</td>\n",
       "      <td>3829388.0</td>\n",
       "      <td>444.76</td>\n",
       "      <td>446.26</td>\n",
       "      <td>444.09</td>\n",
       "      <td>445.83</td>\n",
       "      <td>55980388.0</td>\n",
       "    </tr>\n",
       "  </tbody>\n",
       "</table>\n",
       "</div>"
      ],
      "text/plain": [
       "                              AGG                                         \\\n",
       "                             open      high      low    close     volume   \n",
       "time                                                                       \n",
       "2021-10-11 00:00:00-04:00  114.01  114.0650  113.940  113.940  1999518.0   \n",
       "2021-10-12 00:00:00-04:00  114.17  114.3800  114.110  114.355  3521504.0   \n",
       "2021-10-13 00:00:00-04:00  114.43  114.6400  114.415  114.610  5301180.0   \n",
       "2021-10-14 00:00:00-04:00  114.70  114.8496  114.630  114.840  3540673.0   \n",
       "2021-10-15 00:00:00-04:00  114.61  114.6300  114.510  114.560  3829388.0   \n",
       "\n",
       "                              SPY                                      \n",
       "                             open    high     low   close      volume  \n",
       "time                                                                   \n",
       "2021-10-11 00:00:00-04:00  437.16  440.26  434.62  434.67  54993389.0  \n",
       "2021-10-12 00:00:00-04:00  435.67  436.10  432.78  433.63  61078594.0  \n",
       "2021-10-13 00:00:00-04:00  434.71  436.05  431.54  435.13  63943229.0  \n",
       "2021-10-14 00:00:00-04:00  439.08  442.66  438.58  442.47  59812568.0  \n",
       "2021-10-15 00:00:00-04:00  444.76  446.26  444.09  445.83  55980388.0  "
      ]
     },
     "metadata": {}
    }
   ],
   "metadata": {}
  },
  {
   "cell_type": "markdown",
   "source": [
    "Step 2: Run a Monte Carlo simulation of 500 samples and 30 years for the 60/40 portfolio, and then plot the results."
   ],
   "metadata": {}
  },
  {
   "cell_type": "code",
   "execution_count": 32,
   "source": [
    "# Configure the Monte Carlo simulation to forecast 30 years cumulative returns\r\n",
    "# The weights should be split 40% to AGG and 60% to SPY.\r\n",
    "# Run 500 samples.\r\n",
    "MC_thirty_year = MCSimulation(\r\n",
    "  portfolio_data=pricing_data,\r\n",
    "  weights=[.40, .60],\r\n",
    "  num_simulation=500,\r\n",
    "  num_trading_days=252 * 30\r\n",
    ")\r\n",
    "\r\n",
    "# Review the simulation input data\r\n",
    "MC_thirty_year.portfolio_data.head()"
   ],
   "outputs": [
    {
     "output_type": "execute_result",
     "data": {
      "text/html": [
       "<div>\n",
       "<style scoped>\n",
       "    .dataframe tbody tr th:only-of-type {\n",
       "        vertical-align: middle;\n",
       "    }\n",
       "\n",
       "    .dataframe tbody tr th {\n",
       "        vertical-align: top;\n",
       "    }\n",
       "\n",
       "    .dataframe thead tr th {\n",
       "        text-align: left;\n",
       "    }\n",
       "\n",
       "    .dataframe thead tr:last-of-type th {\n",
       "        text-align: right;\n",
       "    }\n",
       "</style>\n",
       "<table border=\"1\" class=\"dataframe\">\n",
       "  <thead>\n",
       "    <tr>\n",
       "      <th></th>\n",
       "      <th colspan=\"6\" halign=\"left\">AGG</th>\n",
       "      <th colspan=\"6\" halign=\"left\">SPY</th>\n",
       "    </tr>\n",
       "    <tr>\n",
       "      <th></th>\n",
       "      <th>open</th>\n",
       "      <th>high</th>\n",
       "      <th>low</th>\n",
       "      <th>close</th>\n",
       "      <th>volume</th>\n",
       "      <th>daily_return</th>\n",
       "      <th>open</th>\n",
       "      <th>high</th>\n",
       "      <th>low</th>\n",
       "      <th>close</th>\n",
       "      <th>volume</th>\n",
       "      <th>daily_return</th>\n",
       "    </tr>\n",
       "    <tr>\n",
       "      <th>time</th>\n",
       "      <th></th>\n",
       "      <th></th>\n",
       "      <th></th>\n",
       "      <th></th>\n",
       "      <th></th>\n",
       "      <th></th>\n",
       "      <th></th>\n",
       "      <th></th>\n",
       "      <th></th>\n",
       "      <th></th>\n",
       "      <th></th>\n",
       "      <th></th>\n",
       "    </tr>\n",
       "  </thead>\n",
       "  <tbody>\n",
       "    <tr>\n",
       "      <th>2017-10-25 00:00:00-04:00</th>\n",
       "      <td>108.96</td>\n",
       "      <td>109.130</td>\n",
       "      <td>108.950</td>\n",
       "      <td>109.11</td>\n",
       "      <td>2706969.0</td>\n",
       "      <td>NaN</td>\n",
       "      <td>NaN</td>\n",
       "      <td>NaN</td>\n",
       "      <td>NaN</td>\n",
       "      <td>NaN</td>\n",
       "      <td>NaN</td>\n",
       "      <td>NaN</td>\n",
       "    </tr>\n",
       "    <tr>\n",
       "      <th>2017-10-26 00:00:00-04:00</th>\n",
       "      <td>109.20</td>\n",
       "      <td>109.229</td>\n",
       "      <td>108.980</td>\n",
       "      <td>109.00</td>\n",
       "      <td>1488075.0</td>\n",
       "      <td>-0.001008</td>\n",
       "      <td>255.99</td>\n",
       "      <td>256.30</td>\n",
       "      <td>255.560</td>\n",
       "      <td>255.59</td>\n",
       "      <td>37718330.0</td>\n",
       "      <td>NaN</td>\n",
       "    </tr>\n",
       "    <tr>\n",
       "      <th>2017-10-27 00:00:00-04:00</th>\n",
       "      <td>109.07</td>\n",
       "      <td>109.260</td>\n",
       "      <td>109.035</td>\n",
       "      <td>109.24</td>\n",
       "      <td>1527412.0</td>\n",
       "      <td>0.002202</td>\n",
       "      <td>256.50</td>\n",
       "      <td>257.89</td>\n",
       "      <td>256.160</td>\n",
       "      <td>257.68</td>\n",
       "      <td>49910859.0</td>\n",
       "      <td>0.008177</td>\n",
       "    </tr>\n",
       "    <tr>\n",
       "      <th>2017-10-30 00:00:00-04:00</th>\n",
       "      <td>109.43</td>\n",
       "      <td>109.560</td>\n",
       "      <td>109.360</td>\n",
       "      <td>109.53</td>\n",
       "      <td>1719161.0</td>\n",
       "      <td>0.002655</td>\n",
       "      <td>257.07</td>\n",
       "      <td>257.60</td>\n",
       "      <td>256.410</td>\n",
       "      <td>256.80</td>\n",
       "      <td>37073374.0</td>\n",
       "      <td>-0.003415</td>\n",
       "    </tr>\n",
       "    <tr>\n",
       "      <th>2017-10-31 00:00:00-04:00</th>\n",
       "      <td>109.52</td>\n",
       "      <td>109.550</td>\n",
       "      <td>109.440</td>\n",
       "      <td>109.45</td>\n",
       "      <td>2427946.0</td>\n",
       "      <td>-0.000730</td>\n",
       "      <td>257.18</td>\n",
       "      <td>257.44</td>\n",
       "      <td>256.805</td>\n",
       "      <td>257.11</td>\n",
       "      <td>35711419.0</td>\n",
       "      <td>0.001207</td>\n",
       "    </tr>\n",
       "  </tbody>\n",
       "</table>\n",
       "</div>"
      ],
      "text/plain": [
       "                              AGG                                       \\\n",
       "                             open     high      low   close     volume   \n",
       "time                                                                     \n",
       "2017-10-25 00:00:00-04:00  108.96  109.130  108.950  109.11  2706969.0   \n",
       "2017-10-26 00:00:00-04:00  109.20  109.229  108.980  109.00  1488075.0   \n",
       "2017-10-27 00:00:00-04:00  109.07  109.260  109.035  109.24  1527412.0   \n",
       "2017-10-30 00:00:00-04:00  109.43  109.560  109.360  109.53  1719161.0   \n",
       "2017-10-31 00:00:00-04:00  109.52  109.550  109.440  109.45  2427946.0   \n",
       "\n",
       "                                           SPY                           \\\n",
       "                          daily_return    open    high      low   close   \n",
       "time                                                                      \n",
       "2017-10-25 00:00:00-04:00          NaN     NaN     NaN      NaN     NaN   \n",
       "2017-10-26 00:00:00-04:00    -0.001008  255.99  256.30  255.560  255.59   \n",
       "2017-10-27 00:00:00-04:00     0.002202  256.50  257.89  256.160  257.68   \n",
       "2017-10-30 00:00:00-04:00     0.002655  257.07  257.60  256.410  256.80   \n",
       "2017-10-31 00:00:00-04:00    -0.000730  257.18  257.44  256.805  257.11   \n",
       "\n",
       "                                                    \n",
       "                               volume daily_return  \n",
       "time                                                \n",
       "2017-10-25 00:00:00-04:00         NaN          NaN  \n",
       "2017-10-26 00:00:00-04:00  37718330.0          NaN  \n",
       "2017-10-27 00:00:00-04:00  49910859.0     0.008177  \n",
       "2017-10-30 00:00:00-04:00  37073374.0    -0.003415  \n",
       "2017-10-31 00:00:00-04:00  35711419.0     0.001207  "
      ]
     },
     "metadata": {},
     "execution_count": 32
    }
   ],
   "metadata": {}
  },
  {
   "cell_type": "code",
   "execution_count": 33,
   "source": [
    "# Run the Monte Carlo simulation to forecast 30 years cumulative returns\r\n",
    "MC_thirty_year.calc_cumulative_return()"
   ],
   "outputs": [
    {
     "output_type": "stream",
     "name": "stdout",
     "text": [
      "Running Monte Carlo simulation number 0.\n",
      "Running Monte Carlo simulation number 10.\n",
      "Running Monte Carlo simulation number 20.\n",
      "Running Monte Carlo simulation number 30.\n",
      "Running Monte Carlo simulation number 40.\n",
      "Running Monte Carlo simulation number 50.\n",
      "Running Monte Carlo simulation number 60.\n",
      "Running Monte Carlo simulation number 70.\n",
      "Running Monte Carlo simulation number 80.\n",
      "Running Monte Carlo simulation number 90.\n",
      "Running Monte Carlo simulation number 100.\n",
      "Running Monte Carlo simulation number 110.\n",
      "Running Monte Carlo simulation number 120.\n",
      "Running Monte Carlo simulation number 130.\n",
      "Running Monte Carlo simulation number 140.\n",
      "Running Monte Carlo simulation number 150.\n",
      "Running Monte Carlo simulation number 160.\n",
      "Running Monte Carlo simulation number 170.\n",
      "Running Monte Carlo simulation number 180.\n",
      "Running Monte Carlo simulation number 190.\n",
      "Running Monte Carlo simulation number 200.\n",
      "Running Monte Carlo simulation number 210.\n",
      "Running Monte Carlo simulation number 220.\n",
      "Running Monte Carlo simulation number 230.\n",
      "Running Monte Carlo simulation number 240.\n",
      "Running Monte Carlo simulation number 250.\n",
      "Running Monte Carlo simulation number 260.\n",
      "Running Monte Carlo simulation number 270.\n",
      "Running Monte Carlo simulation number 280.\n",
      "Running Monte Carlo simulation number 290.\n",
      "Running Monte Carlo simulation number 300.\n",
      "Running Monte Carlo simulation number 310.\n",
      "Running Monte Carlo simulation number 320.\n",
      "Running Monte Carlo simulation number 330.\n",
      "Running Monte Carlo simulation number 340.\n",
      "Running Monte Carlo simulation number 350.\n",
      "Running Monte Carlo simulation number 360.\n",
      "Running Monte Carlo simulation number 370.\n",
      "Running Monte Carlo simulation number 380.\n",
      "Running Monte Carlo simulation number 390.\n",
      "Running Monte Carlo simulation number 400.\n",
      "Running Monte Carlo simulation number 410.\n",
      "Running Monte Carlo simulation number 420.\n",
      "Running Monte Carlo simulation number 430.\n",
      "Running Monte Carlo simulation number 440.\n",
      "Running Monte Carlo simulation number 450.\n",
      "Running Monte Carlo simulation number 460.\n",
      "Running Monte Carlo simulation number 470.\n",
      "Running Monte Carlo simulation number 480.\n",
      "Running Monte Carlo simulation number 490.\n"
     ]
    },
    {
     "output_type": "execute_result",
     "data": {
      "text/html": [
       "<div>\n",
       "<style scoped>\n",
       "    .dataframe tbody tr th:only-of-type {\n",
       "        vertical-align: middle;\n",
       "    }\n",
       "\n",
       "    .dataframe tbody tr th {\n",
       "        vertical-align: top;\n",
       "    }\n",
       "\n",
       "    .dataframe thead th {\n",
       "        text-align: right;\n",
       "    }\n",
       "</style>\n",
       "<table border=\"1\" class=\"dataframe\">\n",
       "  <thead>\n",
       "    <tr style=\"text-align: right;\">\n",
       "      <th></th>\n",
       "      <th>0</th>\n",
       "      <th>1</th>\n",
       "      <th>2</th>\n",
       "      <th>3</th>\n",
       "      <th>4</th>\n",
       "      <th>5</th>\n",
       "      <th>6</th>\n",
       "      <th>7</th>\n",
       "      <th>8</th>\n",
       "      <th>9</th>\n",
       "      <th>...</th>\n",
       "      <th>490</th>\n",
       "      <th>491</th>\n",
       "      <th>492</th>\n",
       "      <th>493</th>\n",
       "      <th>494</th>\n",
       "      <th>495</th>\n",
       "      <th>496</th>\n",
       "      <th>497</th>\n",
       "      <th>498</th>\n",
       "      <th>499</th>\n",
       "    </tr>\n",
       "  </thead>\n",
       "  <tbody>\n",
       "    <tr>\n",
       "      <th>0</th>\n",
       "      <td>1.000000</td>\n",
       "      <td>1.000000</td>\n",
       "      <td>1.000000</td>\n",
       "      <td>1.000000</td>\n",
       "      <td>1.000000</td>\n",
       "      <td>1.000000</td>\n",
       "      <td>1.000000</td>\n",
       "      <td>1.000000</td>\n",
       "      <td>1.000000</td>\n",
       "      <td>1.000000</td>\n",
       "      <td>...</td>\n",
       "      <td>1.000000</td>\n",
       "      <td>1.000000</td>\n",
       "      <td>1.000000</td>\n",
       "      <td>1.000000</td>\n",
       "      <td>1.000000</td>\n",
       "      <td>1.000000</td>\n",
       "      <td>1.000000</td>\n",
       "      <td>1.000000</td>\n",
       "      <td>1.000000</td>\n",
       "      <td>1.000000</td>\n",
       "    </tr>\n",
       "    <tr>\n",
       "      <th>1</th>\n",
       "      <td>0.998675</td>\n",
       "      <td>1.010893</td>\n",
       "      <td>0.997053</td>\n",
       "      <td>0.993824</td>\n",
       "      <td>1.005833</td>\n",
       "      <td>1.014242</td>\n",
       "      <td>1.004168</td>\n",
       "      <td>0.979851</td>\n",
       "      <td>1.013092</td>\n",
       "      <td>1.017321</td>\n",
       "      <td>...</td>\n",
       "      <td>0.999229</td>\n",
       "      <td>1.006288</td>\n",
       "      <td>1.000656</td>\n",
       "      <td>0.989455</td>\n",
       "      <td>0.991957</td>\n",
       "      <td>1.003666</td>\n",
       "      <td>0.991136</td>\n",
       "      <td>0.998817</td>\n",
       "      <td>0.993722</td>\n",
       "      <td>1.005976</td>\n",
       "    </tr>\n",
       "    <tr>\n",
       "      <th>2</th>\n",
       "      <td>1.001279</td>\n",
       "      <td>0.987962</td>\n",
       "      <td>1.001461</td>\n",
       "      <td>0.994329</td>\n",
       "      <td>1.010424</td>\n",
       "      <td>1.008767</td>\n",
       "      <td>0.992534</td>\n",
       "      <td>0.966835</td>\n",
       "      <td>1.019399</td>\n",
       "      <td>1.014365</td>\n",
       "      <td>...</td>\n",
       "      <td>0.993682</td>\n",
       "      <td>1.008570</td>\n",
       "      <td>0.994878</td>\n",
       "      <td>0.999450</td>\n",
       "      <td>0.988878</td>\n",
       "      <td>1.001992</td>\n",
       "      <td>0.980828</td>\n",
       "      <td>0.998651</td>\n",
       "      <td>0.994155</td>\n",
       "      <td>0.999940</td>\n",
       "    </tr>\n",
       "    <tr>\n",
       "      <th>3</th>\n",
       "      <td>1.012386</td>\n",
       "      <td>0.990832</td>\n",
       "      <td>0.999431</td>\n",
       "      <td>0.976613</td>\n",
       "      <td>1.007450</td>\n",
       "      <td>1.005651</td>\n",
       "      <td>0.991978</td>\n",
       "      <td>0.964864</td>\n",
       "      <td>1.022799</td>\n",
       "      <td>1.009472</td>\n",
       "      <td>...</td>\n",
       "      <td>1.002133</td>\n",
       "      <td>1.000969</td>\n",
       "      <td>0.998773</td>\n",
       "      <td>0.995775</td>\n",
       "      <td>1.000361</td>\n",
       "      <td>1.001492</td>\n",
       "      <td>0.985553</td>\n",
       "      <td>0.990906</td>\n",
       "      <td>0.994609</td>\n",
       "      <td>1.001650</td>\n",
       "    </tr>\n",
       "    <tr>\n",
       "      <th>4</th>\n",
       "      <td>1.017304</td>\n",
       "      <td>0.981174</td>\n",
       "      <td>0.999494</td>\n",
       "      <td>0.975875</td>\n",
       "      <td>1.009237</td>\n",
       "      <td>0.998027</td>\n",
       "      <td>0.998913</td>\n",
       "      <td>0.955901</td>\n",
       "      <td>1.018395</td>\n",
       "      <td>1.010585</td>\n",
       "      <td>...</td>\n",
       "      <td>1.000400</td>\n",
       "      <td>1.001012</td>\n",
       "      <td>1.001967</td>\n",
       "      <td>0.996782</td>\n",
       "      <td>0.981985</td>\n",
       "      <td>0.994471</td>\n",
       "      <td>0.978413</td>\n",
       "      <td>0.985057</td>\n",
       "      <td>1.002607</td>\n",
       "      <td>1.006301</td>\n",
       "    </tr>\n",
       "    <tr>\n",
       "      <th>...</th>\n",
       "      <td>...</td>\n",
       "      <td>...</td>\n",
       "      <td>...</td>\n",
       "      <td>...</td>\n",
       "      <td>...</td>\n",
       "      <td>...</td>\n",
       "      <td>...</td>\n",
       "      <td>...</td>\n",
       "      <td>...</td>\n",
       "      <td>...</td>\n",
       "      <td>...</td>\n",
       "      <td>...</td>\n",
       "      <td>...</td>\n",
       "      <td>...</td>\n",
       "      <td>...</td>\n",
       "      <td>...</td>\n",
       "      <td>...</td>\n",
       "      <td>...</td>\n",
       "      <td>...</td>\n",
       "      <td>...</td>\n",
       "      <td>...</td>\n",
       "    </tr>\n",
       "    <tr>\n",
       "      <th>7556</th>\n",
       "      <td>19.332208</td>\n",
       "      <td>8.174563</td>\n",
       "      <td>6.406366</td>\n",
       "      <td>12.196775</td>\n",
       "      <td>34.874242</td>\n",
       "      <td>16.848631</td>\n",
       "      <td>7.272869</td>\n",
       "      <td>9.476106</td>\n",
       "      <td>21.182620</td>\n",
       "      <td>4.458819</td>\n",
       "      <td>...</td>\n",
       "      <td>2.568735</td>\n",
       "      <td>11.732328</td>\n",
       "      <td>34.839017</td>\n",
       "      <td>7.917825</td>\n",
       "      <td>18.688054</td>\n",
       "      <td>16.824221</td>\n",
       "      <td>20.838837</td>\n",
       "      <td>16.701707</td>\n",
       "      <td>18.785530</td>\n",
       "      <td>19.206969</td>\n",
       "    </tr>\n",
       "    <tr>\n",
       "      <th>7557</th>\n",
       "      <td>19.494376</td>\n",
       "      <td>8.221655</td>\n",
       "      <td>6.333554</td>\n",
       "      <td>12.202220</td>\n",
       "      <td>34.556365</td>\n",
       "      <td>16.869448</td>\n",
       "      <td>7.278532</td>\n",
       "      <td>9.284515</td>\n",
       "      <td>21.382437</td>\n",
       "      <td>4.486100</td>\n",
       "      <td>...</td>\n",
       "      <td>2.550442</td>\n",
       "      <td>11.751452</td>\n",
       "      <td>34.755542</td>\n",
       "      <td>7.906122</td>\n",
       "      <td>18.688720</td>\n",
       "      <td>16.560187</td>\n",
       "      <td>20.725325</td>\n",
       "      <td>16.707630</td>\n",
       "      <td>19.224147</td>\n",
       "      <td>19.385251</td>\n",
       "    </tr>\n",
       "    <tr>\n",
       "      <th>7558</th>\n",
       "      <td>19.398057</td>\n",
       "      <td>8.317552</td>\n",
       "      <td>6.336939</td>\n",
       "      <td>12.318838</td>\n",
       "      <td>34.311826</td>\n",
       "      <td>16.799984</td>\n",
       "      <td>7.216231</td>\n",
       "      <td>9.367725</td>\n",
       "      <td>21.446319</td>\n",
       "      <td>4.420279</td>\n",
       "      <td>...</td>\n",
       "      <td>2.583349</td>\n",
       "      <td>11.556141</td>\n",
       "      <td>34.517225</td>\n",
       "      <td>7.912198</td>\n",
       "      <td>18.431033</td>\n",
       "      <td>16.646807</td>\n",
       "      <td>20.516601</td>\n",
       "      <td>16.369605</td>\n",
       "      <td>19.163233</td>\n",
       "      <td>19.270628</td>\n",
       "    </tr>\n",
       "    <tr>\n",
       "      <th>7559</th>\n",
       "      <td>19.633105</td>\n",
       "      <td>8.342238</td>\n",
       "      <td>6.337504</td>\n",
       "      <td>12.417528</td>\n",
       "      <td>34.754484</td>\n",
       "      <td>16.911079</td>\n",
       "      <td>7.181871</td>\n",
       "      <td>9.143997</td>\n",
       "      <td>21.429377</td>\n",
       "      <td>4.397503</td>\n",
       "      <td>...</td>\n",
       "      <td>2.557477</td>\n",
       "      <td>11.426596</td>\n",
       "      <td>34.962595</td>\n",
       "      <td>7.881829</td>\n",
       "      <td>18.097005</td>\n",
       "      <td>16.604003</td>\n",
       "      <td>20.642335</td>\n",
       "      <td>16.511533</td>\n",
       "      <td>19.066768</td>\n",
       "      <td>19.143979</td>\n",
       "    </tr>\n",
       "    <tr>\n",
       "      <th>7560</th>\n",
       "      <td>19.728113</td>\n",
       "      <td>8.364104</td>\n",
       "      <td>6.365079</td>\n",
       "      <td>12.259797</td>\n",
       "      <td>34.882930</td>\n",
       "      <td>16.932953</td>\n",
       "      <td>7.174519</td>\n",
       "      <td>9.231007</td>\n",
       "      <td>21.397832</td>\n",
       "      <td>4.404826</td>\n",
       "      <td>...</td>\n",
       "      <td>2.547229</td>\n",
       "      <td>11.430075</td>\n",
       "      <td>35.169345</td>\n",
       "      <td>7.874841</td>\n",
       "      <td>17.983626</td>\n",
       "      <td>16.690367</td>\n",
       "      <td>20.620064</td>\n",
       "      <td>16.533405</td>\n",
       "      <td>19.055507</td>\n",
       "      <td>19.087762</td>\n",
       "    </tr>\n",
       "  </tbody>\n",
       "</table>\n",
       "<p>7561 rows × 500 columns</p>\n",
       "</div>"
      ],
      "text/plain": [
       "            0         1         2          3          4          5    \\\n",
       "0      1.000000  1.000000  1.000000   1.000000   1.000000   1.000000   \n",
       "1      0.998675  1.010893  0.997053   0.993824   1.005833   1.014242   \n",
       "2      1.001279  0.987962  1.001461   0.994329   1.010424   1.008767   \n",
       "3      1.012386  0.990832  0.999431   0.976613   1.007450   1.005651   \n",
       "4      1.017304  0.981174  0.999494   0.975875   1.009237   0.998027   \n",
       "...         ...       ...       ...        ...        ...        ...   \n",
       "7556  19.332208  8.174563  6.406366  12.196775  34.874242  16.848631   \n",
       "7557  19.494376  8.221655  6.333554  12.202220  34.556365  16.869448   \n",
       "7558  19.398057  8.317552  6.336939  12.318838  34.311826  16.799984   \n",
       "7559  19.633105  8.342238  6.337504  12.417528  34.754484  16.911079   \n",
       "7560  19.728113  8.364104  6.365079  12.259797  34.882930  16.932953   \n",
       "\n",
       "           6         7          8         9    ...       490        491  \\\n",
       "0     1.000000  1.000000   1.000000  1.000000  ...  1.000000   1.000000   \n",
       "1     1.004168  0.979851   1.013092  1.017321  ...  0.999229   1.006288   \n",
       "2     0.992534  0.966835   1.019399  1.014365  ...  0.993682   1.008570   \n",
       "3     0.991978  0.964864   1.022799  1.009472  ...  1.002133   1.000969   \n",
       "4     0.998913  0.955901   1.018395  1.010585  ...  1.000400   1.001012   \n",
       "...        ...       ...        ...       ...  ...       ...        ...   \n",
       "7556  7.272869  9.476106  21.182620  4.458819  ...  2.568735  11.732328   \n",
       "7557  7.278532  9.284515  21.382437  4.486100  ...  2.550442  11.751452   \n",
       "7558  7.216231  9.367725  21.446319  4.420279  ...  2.583349  11.556141   \n",
       "7559  7.181871  9.143997  21.429377  4.397503  ...  2.557477  11.426596   \n",
       "7560  7.174519  9.231007  21.397832  4.404826  ...  2.547229  11.430075   \n",
       "\n",
       "            492       493        494        495        496        497  \\\n",
       "0      1.000000  1.000000   1.000000   1.000000   1.000000   1.000000   \n",
       "1      1.000656  0.989455   0.991957   1.003666   0.991136   0.998817   \n",
       "2      0.994878  0.999450   0.988878   1.001992   0.980828   0.998651   \n",
       "3      0.998773  0.995775   1.000361   1.001492   0.985553   0.990906   \n",
       "4      1.001967  0.996782   0.981985   0.994471   0.978413   0.985057   \n",
       "...         ...       ...        ...        ...        ...        ...   \n",
       "7556  34.839017  7.917825  18.688054  16.824221  20.838837  16.701707   \n",
       "7557  34.755542  7.906122  18.688720  16.560187  20.725325  16.707630   \n",
       "7558  34.517225  7.912198  18.431033  16.646807  20.516601  16.369605   \n",
       "7559  34.962595  7.881829  18.097005  16.604003  20.642335  16.511533   \n",
       "7560  35.169345  7.874841  17.983626  16.690367  20.620064  16.533405   \n",
       "\n",
       "            498        499  \n",
       "0      1.000000   1.000000  \n",
       "1      0.993722   1.005976  \n",
       "2      0.994155   0.999940  \n",
       "3      0.994609   1.001650  \n",
       "4      1.002607   1.006301  \n",
       "...         ...        ...  \n",
       "7556  18.785530  19.206969  \n",
       "7557  19.224147  19.385251  \n",
       "7558  19.163233  19.270628  \n",
       "7559  19.066768  19.143979  \n",
       "7560  19.055507  19.087762  \n",
       "\n",
       "[7561 rows x 500 columns]"
      ]
     },
     "metadata": {},
     "execution_count": 33
    }
   ],
   "metadata": {}
  },
  {
   "cell_type": "code",
   "execution_count": 37,
   "source": [
    "# Visualize the 30-year Monte Carlo simulation by creating an\r\n",
    "# overlay line plot\r\n",
    "MC_thirty_year.plot_simulation()"
   ],
   "outputs": [
    {
     "output_type": "execute_result",
     "data": {
      "text/plain": [
       "<AxesSubplot:title={'center':'500 Simulations of Cumulative Portfolio Return Trajectories Over the Next 7560 Trading Days.'}>"
      ]
     },
     "metadata": {},
     "execution_count": 37
    },
    {
     "output_type": "display_data",
     "data": {
      "image/png": "[encoded data removed]",
      "text/plain": [
       "<Figure size 432x288 with 1 Axes>"
      ]
     },
     "metadata": {
      "needs_background": "light"
     }
    }
   ],
   "metadata": {}
  },
  {
   "cell_type": "markdown",
   "source": [
    "Step 3: Plot the probability distribution of the Monte Carlo simulation."
   ],
   "metadata": {}
  },
  {
   "cell_type": "code",
   "execution_count": 38,
   "source": [
    "# Visualize the probability distribution of the 30-year Monte Carlo simulation \r\n",
    "# by plotting a histogram\r\n",
    "MC_thirty_year.plot_distribution()"
   ],
   "outputs": [
    {
     "output_type": "execute_result",
     "data": {
      "text/plain": [
       "<AxesSubplot:title={'center':'Distribution of Final Cumuluative Returns Across All 500 Simulations'}, ylabel='Frequency'>"
      ]
     },
     "metadata": {},
     "execution_count": 38
    },
    {
     "output_type": "display_data",
     "data": {
      "image/png": "[encoded data removed]",
      "text/plain": [
       "<Figure size 432x288 with 1 Axes>"
      ]
     },
     "metadata": {
      "needs_background": "light"
     }
    }
   ],
   "metadata": {}
  },
  {
   "cell_type": "markdown",
   "source": [
    "Step 4: Generate the summary statistics for the Monte Carlo simulation."
   ],
   "metadata": {}
  },
  {
   "cell_type": "code",
   "execution_count": 39,
   "source": [
    "# Generate summary statistics from the 30-year Monte Carlo simulation results\r\n",
    "# Save the results as a variable\r\n",
    "MC_thirty_year_summary_statistics = MC_thirty_year.summarize_cumulative_return()\r\n",
    "\r\n",
    "# Review the 30-year Monte Carlo summary statistics\r\n",
    "print(MC_thirty_year_summary_statistics)"
   ],
   "outputs": [
    {
     "output_type": "stream",
     "name": "stdout",
     "text": [
      "count           500.000000\n",
      "mean             22.658134\n",
      "std              17.445450\n",
      "min               1.962973\n",
      "25%              11.078277\n",
      "50%              17.342069\n",
      "75%              28.489738\n",
      "max             150.845630\n",
      "95% CI Lower      4.396865\n",
      "95% CI Upper     70.298216\n",
      "Name: 7560, dtype: float64\n"
     ]
    }
   ],
   "metadata": {}
  }
 ],
 "metadata": {
  "orig_nbformat": 4,
  "language_info": {
   "name": "python",
   "version": "3.7.10",
   "mimetype": "text/x-python",
   "codemirror_mode": {
    "name": "ipython",
    "version": 3
   },
   "pygments_lexer": "ipython3",
   "nbconvert_exporter": "python",
   "file_extension": ".py"
  },
  "kernelspec": {
   "name": "python3",
   "display_name": "Python 3.7.10 64-bit ('dev': conda)"
  },
  "interpreter": {
   "hash": "ad9fb37fa15c2fac4885b853501abc8587965d08b8586f67468c92fe4e3567d7"
  }
 },
 "nbformat": 4,
 "nbformat_minor": 2
}